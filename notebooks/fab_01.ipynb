{
 "cells": [
  {
   "metadata": {
    "ExecuteTime": {
     "end_time": "2025-05-18T14:59:14.606723Z",
     "start_time": "2025-05-18T14:59:14.593250Z"
    }
   },
   "cell_type": "code",
   "source": [
    "from dataclasses import dataclass\n",
    "from typing import List, Dict, Optional, Any, Union\n",
    "from pydantic import BaseModel, Field\n",
    "from typing import ClassVar\n",
    "import os\n",
    "from pydantic import BaseModel, Field\n",
    "from typing import ClassVar\n",
    "\n",
    "cards_by_id = dict()\n",
    "\n",
    "class Card(BaseModel):\n",
    "    id: Optional[int] = Field(default=None)\n",
    "    deck: Optional[str] = Field(default=None)\n",
    "    question: str\n",
    "    answer: str\n",
    "    flag: str\n",
    "    cardState: str\n",
    "\n",
    "    def __init__(self, **data):\n",
    "        super().__init__(**data)\n",
    "\n",
    "        attempt = 0\n",
    "        while True:\n",
    "            attempt += 1\n",
    "            random_bytes = os.urandom(4)\n",
    "            random_int = int.from_bytes(random_bytes, byteorder=\"big\")\n",
    "            if random_int not in cards_by_id:\n",
    "                cards_by_id[random_int] = self\n",
    "                self.id = random_int\n",
    "                break\n",
    "            if attempt >= 100:\n",
    "                raise RuntimeError(f\"{attempt} attempts of generating a new, unique card id failed.\")\n",
    "\n",
    "    def to_llm_info(self):\n",
    "        hex_str = f\"{value:08x}\"  # pad to 8 hex digits\n",
    "        hex_id = f\"{hex_str[:4]}_{hex_str[4:]}\"\n",
    "        s = f\"\"\"Card {hex_id} from the deck '{self.deck}'\n",
    "Question:\n",
    "{self.question}\n",
    "\n",
    "Answer:\n",
    "{self.answer}\n",
    "\n",
    "Flag: {self.flag}\n",
    "Card State: {self.cardState}\"\"\"\n",
    "        return s\n",
    "\n",
    "cards_by_id: dict[int, Card]\n",
    "\n",
    "class Deck(BaseModel):\n",
    "    name: str\n",
    "    cards: List[Card]\n",
    "\n",
    "class DummyEnvironment(BaseModel):\n",
    "    decks: List[str]\n",
    "\n",
    "class CardWithFuzzyMatch(Card):\n",
    "    __fuzzymatch: Optional[List[str]] = None\n",
    "\n",
    "class DeckWithCards(BaseModel):\n",
    "    name: str\n",
    "    cards: List[Union[CardWithFuzzyMatch, Card]]\n",
    "\n",
    "class ExpectedResult(BaseModel):\n",
    "    decks: List[Union[str, DeckWithCards]]\n",
    "\n",
    "class TestItem(BaseModel):\n",
    "    name: str\n",
    "    description: Optional[str] = \"\"\n",
    "    environment: str\n",
    "    queries: List[List[str]]\n",
    "    params: Optional[Dict[str, Any]] = None\n",
    "    expected_result: ExpectedResult\n",
    "\n",
    "class QuestionAnsweringItem(BaseModel):\n",
    "    name: str\n",
    "    description: str\n",
    "    environment: str\n",
    "    queries: List[List[str]]\n",
    "    expected_answer: str\n",
    "\n",
    "class MainModel(BaseModel):\n",
    "    test_decks: Dict[str, Deck]\n",
    "    dummy_environments: Dict[str, DummyEnvironment]\n",
    "    tests: List[TestItem]\n",
    "    question_answering: Dict[str, List[QuestionAnsweringItem]]\n"
   ],
   "id": "29ee1511ee476e7c",
   "outputs": [],
   "execution_count": 55
  },
  {
   "metadata": {
    "ExecuteTime": {
     "end_time": "2025-05-18T14:58:56.521080Z",
     "start_time": "2025-05-18T14:58:56.511124Z"
    }
   },
   "cell_type": "code",
   "source": [
    "import pathlib\n",
    "\n",
    "json_path = pathlib.Path(\"../tests/data/tests.json\")\n",
    "data = MainModel.model_validate_json(json_path.read_text(encoding=\"utf-8\"))\n",
    "\n",
    "for (deck_key, deck) in data.test_decks.items():\n",
    "    for card in deck.cards:\n",
    "        card.deck = deck.name\n"
   ],
   "id": "dc207797bf784ab5",
   "outputs": [],
   "execution_count": 53
  },
  {
   "metadata": {
    "ExecuteTime": {
     "end_time": "2025-05-18T14:58:57.196461Z",
     "start_time": "2025-05-18T14:58:57.192437Z"
    }
   },
   "cell_type": "code",
   "source": [
    "tmp_idx = 10\n",
    "expected = data.test_decks[\"java\"].cards[10]\n",
    "print(cards_by_id[expected.id], expected)\n",
    "print(3*\"\\n\")\n",
    "\n",
    "print(expected.to_llm_info())"
   ],
   "id": "3dfdd815d6afb681",
   "outputs": [
    {
     "name": "stdout",
     "output_type": "stream",
     "text": [
      "id=1784539380 deck='Java Programming' question=\"What is the difference between 'int' and 'Integer'?\" answer=\"'int' is a primitive type; 'Integer' is an object wrapper.\" flag='None' cardState='New' id=1784539380 deck='Java Programming' question=\"What is the difference between 'int' and 'Integer'?\" answer=\"'int' is a primitive type; 'Integer' is an object wrapper.\" flag='None' cardState='New'\n",
      "\n",
      "\n",
      "\n",
      "\n",
      "Card 075b_cd15 from deck 'Java Programming'\n",
      "Question:\n",
      "What is the difference between 'int' and 'Integer'?\n",
      "\n",
      "Answer:\n",
      "'int' is a primitive type; 'Integer' is an object wrapper.\n",
      "\n",
      "Flag: None\n",
      "Card State: New\n"
     ]
    }
   ],
   "execution_count": 54
  },
  {
   "metadata": {},
   "cell_type": "code",
   "outputs": [],
   "execution_count": null,
   "source": "",
   "id": "b67cd1a7911c86e"
  },
  {
   "metadata": {},
   "cell_type": "markdown",
   "source": "## Audio",
   "id": "13979a998ddadf03"
  },
  {
   "metadata": {
    "ExecuteTime": {
     "end_time": "2025-05-18T14:55:06.821246Z",
     "start_time": "2025-05-18T14:55:06.818779Z"
    }
   },
   "cell_type": "code",
   "source": "",
   "id": "b4a48cc09e05eed9",
   "outputs": [],
   "execution_count": null
  },
  {
   "metadata": {},
   "cell_type": "code",
   "source": [
    "import sounddevice as sd\n",
    "import numpy as np\n",
    "import scipy.io.wavfile as wav\n",
    "import torch\n",
    "from transformers import AutoModelForSpeechSeq2Seq, AutoProcessor, pipeline\n",
    "\n",
    "# Record audio from microphone\n",
    "def record_audio(duration=5, fs=16000):\n",
    "    print(\"Recording...\")\n",
    "    audio = sd.rec(int(duration * fs), samplerate=fs, channels=1, dtype='int16')\n",
    "    sd.wait()\n",
    "    print(\"Recording finished.\")\n",
    "    return audio.flatten(), fs\n",
    "\n",
    "# Save audio to a temporary WAV file\n",
    "def save_wav(audio, fs, filename=\"temp.wav\"):\n",
    "    wav.write(filename, fs, audio)\n",
    "    return filename\n",
    "\n",
    "def create_pipeline():\n",
    "    device = \"cuda:0\" if torch.cuda.is_available() else \"cpu\"\n",
    "    torch_dtype = torch.float16 if torch.cuda.is_available() else torch.float32\n",
    "    model_id = \"openai/whisper-large-v3\"\n",
    "\n",
    "    model = AutoModelForSpeechSeq2Seq.from_pretrained(\n",
    "        model_id, torch_dtype=torch_dtype, low_cpu_mem_usage=True, use_safetensors=True\n",
    "    )\n",
    "    model.to(device)\n",
    "    processor = AutoProcessor.from_pretrained(model_id)\n",
    "    return pipeline(\n",
    "        \"automatic-speech-recognition\",\n",
    "        model=model,\n",
    "        tokenizer=processor.tokenizer,\n",
    "        feature_extractor=processor.feature_extractor,\n",
    "        torch_dtype=torch_dtype,\n",
    "        device=device,\n",
    "    )\n",
    "\n",
    "pipe = create_pipeline()\n",
    "\n",
    "# Load and transcribe audio\n",
    "def transcribe(filename):\n",
    "    result = pipe(filename)\n",
    "    print(\"Transcription:\", result)"
   ],
   "id": "175bf6728d6c2bd4",
   "outputs": [],
   "execution_count": null
  },
  {
   "metadata": {
    "ExecuteTime": {
     "end_time": "2025-05-18T13:07:42.117890941Z",
     "start_time": "2025-05-18T12:48:58.673308Z"
    }
   },
   "cell_type": "code",
   "source": [
    "audio, fs = record_audio(duration=5, fs=16000)\n",
    "filename = save_wav(audio, fs)\n",
    "transcribe(filename)"
   ],
   "id": "94b558683341b9f2",
   "outputs": [
    {
     "name": "stdout",
     "output_type": "stream",
     "text": [
      "Recording...\n"
     ]
    },
    {
     "name": "stderr",
     "output_type": "stream",
     "text": [
      "/home/fab/Dokumente/Schule/Universität/12. Semester inkl Ilias/Info LLM Praktikum/the-curator/.venv/lib/python3.12/site-packages/transformers/models/whisper/generation_whisper.py:573: FutureWarning: The input name `inputs` is deprecated. Please make sure to use `input_features` instead.\n",
      "  warnings.warn(\n",
      "Due to a bug fix in https://github.com/huggingface/transformers/pull/28687 transcription using a multilingual Whisper will default to language detection followed by transcription instead of translation to English.This might be a breaking change for your use case. If you want to instead always translate your audio to English, make sure to pass `language='en'`.\n"
     ]
    },
    {
     "name": "stdout",
     "output_type": "stream",
     "text": [
      "Recording finished.\n",
      "Transcription: {'text': ' Hallo, das ist ein Test. Was soll ich eigentlich sagen hier? Zum Schluss zum Warenkorb hinzugefügt. Weißt du was?'}\n"
     ]
    }
   ],
   "execution_count": 4
  },
  {
   "metadata": {
    "ExecuteTime": {
     "end_time": "2025-05-18T13:07:42.118402899Z",
     "start_time": "2025-05-18T12:49:05.258383Z"
    }
   },
   "cell_type": "code",
   "source": [
    "# import sounddevice as sd\n",
    "# import numpy as np\n",
    "#\n",
    "# def audio_stream(chunk_duration=1, fs=16000):\n",
    "#     chunk_samples = int(chunk_duration * fs)\n",
    "#     with sd.InputStream(samplerate=fs, channels=1, dtype='int16') as stream:\n",
    "#         print(\"Live transcription started. Speak into the microphone.\")\n",
    "#         while True:\n",
    "#             audio_chunk, _ = stream.read(chunk_samples)\n",
    "#             yield audio_chunk.flatten()\n",
    "#\n",
    "# for chunk in audio_stream():\n",
    "#     audio_float = (chunk / 32768.0).astype(np.float32)\n",
    "#     # Pass as dict with 'array' and 'sampling_rate'\n",
    "#     result = pipe({\"array\": audio_float, \"sampling_rate\": 16000})\n",
    "#     print(\"You said:\", result[\"text\"])"
   ],
   "id": "1d18834fa443e9f6",
   "outputs": [],
   "execution_count": 5
  },
  {
   "metadata": {
    "ExecuteTime": {
     "end_time": "2025-05-18T13:07:42.118634517Z",
     "start_time": "2025-05-18T12:49:05.308115Z"
    }
   },
   "cell_type": "code",
   "source": "",
   "id": "f096d6dc65d62697",
   "outputs": [],
   "execution_count": null
  },
  {
   "metadata": {
    "ExecuteTime": {
     "end_time": "2025-05-18T13:07:42.118864762Z",
     "start_time": "2025-05-18T12:49:05.363035Z"
    }
   },
   "cell_type": "code",
   "source": "",
   "id": "962cf56a0d2a698a",
   "outputs": [],
   "execution_count": null
  },
  {
   "metadata": {
    "ExecuteTime": {
     "end_time": "2025-05-18T13:07:42.119508019Z",
     "start_time": "2025-05-18T12:49:05.414374Z"
    }
   },
   "cell_type": "code",
   "source": "",
   "id": "69909f1f1df00894",
   "outputs": [],
   "execution_count": null
  },
  {
   "metadata": {
    "ExecuteTime": {
     "end_time": "2025-05-18T13:07:42.119743484Z",
     "start_time": "2025-05-18T12:49:05.464525Z"
    }
   },
   "cell_type": "code",
   "source": "",
   "id": "5e587072ad3b63fa",
   "outputs": [],
   "execution_count": null
  },
  {
   "metadata": {
    "ExecuteTime": {
     "end_time": "2025-05-18T13:07:42.126039067Z",
     "start_time": "2025-05-18T12:49:05.519875Z"
    }
   },
   "cell_type": "code",
   "source": "",
   "id": "10fd2f25dffdff2e",
   "outputs": [],
   "execution_count": null
  },
  {
   "metadata": {
    "ExecuteTime": {
     "end_time": "2025-05-18T14:43:05.765190Z",
     "start_time": "2025-05-18T14:43:05.761706Z"
    }
   },
   "cell_type": "code",
   "source": [
    "value = 123456789  # example int\n",
    "hex_str = f\"{value:08x}\"  # pad to 8 hex digits\n",
    "formatted = f\"{hex_str[:4]}_{hex_str[4:]}\"\n",
    "print(formatted)  # e.g., '075b_cd15'"
   ],
   "id": "3ee458c7c5ed213c",
   "outputs": [
    {
     "name": "stdout",
     "output_type": "stream",
     "text": [
      "075b_cd15\n"
     ]
    }
   ],
   "execution_count": 18
  },
  {
   "metadata": {
    "ExecuteTime": {
     "end_time": "2025-05-18T14:37:33.887291Z",
     "start_time": "2025-05-18T14:37:33.885052Z"
    }
   },
   "cell_type": "code",
   "source": "",
   "id": "ca14dbc192561958",
   "outputs": [],
   "execution_count": null
  }
 ],
 "metadata": {
  "kernelspec": {
   "display_name": "Python 3",
   "language": "python",
   "name": "python3"
  },
  "language_info": {
   "codemirror_mode": {
    "name": "ipython",
    "version": 2
   },
   "file_extension": ".py",
   "mimetype": "text/x-python",
   "name": "python",
   "nbconvert_exporter": "python",
   "pygments_lexer": "ipython2",
   "version": "2.7.6"
  }
 },
 "nbformat": 4,
 "nbformat_minor": 5
}
