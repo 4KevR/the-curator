{
 "cells": [
  {
   "cell_type": "code",
   "execution_count": null,
   "id": "0",
   "metadata": {},
   "outputs": [],
   "source": [
    "import sys\n",
    "import os\n",
    "\n",
    "sys.path.append(os.path.abspath(\"../..\"))\n",
    "\n",
    "import os\n",
    "import json\n",
    "\n",
    "import pandas as pd\n",
    "from IPython.display import display, HTML, Markdown\n",
    "import markdown\n",
    "\n",
    "from src.backend.modules.evaluation.run_tests.test_eval_result import TestEvalResult\n",
    "\n",
    "\n",
    "def print_markdown(test_eval_result: TestEvalResult):\n",
    "    markdown_content = test_eval_result.to_markdown()\n",
    "    html_wrapper = f\"\"\"\n",
    "    <div style=\"max-width: 900px; margin: auto; font-size: 14px;\">\n",
    "    {markdown.markdown(markdown_content)}\n",
    "    </div>\n",
    "    \"\"\"\n",
    "\n",
    "    display(HTML(html_wrapper))\n",
    "\n",
    "\n",
    "TestEvalResult.print_markdown = print_markdown"
   ]
  },
  {
   "cell_type": "markdown",
   "id": "1",
   "metadata": {},
   "source": [
    "\n",
    "# Interaction Tests"
   ]
  },
  {
   "cell_type": "code",
   "execution_count": null,
   "id": "2",
   "metadata": {},
   "outputs": [],
   "source": [
    "\n",
    "from src.backend.modules.llm.types import TokenUsage\n",
    "\n",
    "\n",
    "eval_file_to_read = max(os.listdir(\"../../data/logs\"))\n",
    "print(f\"Reading evaluation log from '{eval_file_to_read}'.\")\n",
    "\n",
    "with open(f\"../../data/logs/{eval_file_to_read}\", \"r\") as f:\n",
    "    raw_data = json.load(f)\n",
    "    RES = []\n",
    "    for item in raw_data:\n",
    "        if 'token_usage' in item and isinstance(item['token_usage'], dict):\n",
    "            item['token_usage'] = TokenUsage(\n",
    "                prompt_tokens=item['token_usage'].get('prompt_tokens', 0),\n",
    "                completion_tokens=item['token_usage'].get('completion_tokens', 0)\n",
    "            )\n",
    "        RES.append(TestEvalResult(**item))\n"
   ]
  },
  {
   "cell_type": "code",
   "execution_count": null,
   "id": "3",
   "metadata": {},
   "outputs": [],
   "source": [
    "print(f\"Total time taken: {sum(it.time_taken_s for it in RES):.2f} seconds.\")\n",
    "print(f\"Total tests run: {len(RES)}.\")"
   ]
  },
  {
   "cell_type": "code",
   "execution_count": null,
   "id": "4",
   "metadata": {},
   "outputs": [],
   "source": [
    "tmp = pd.DataFrame()\n",
    "raw = [\"crashed\" if r.crashed else (\"passed\" if r.passed else \"failed\") for r in RES]\n",
    "tmp[\"abs\"] = (pd.Series(raw + [\"crashed\", \"passed\", \"failed\"]).value_counts() - 1).sort_index()\n",
    "tmp[\"rel\"] = (tmp[\"abs\"] / sum(tmp[\"abs\"]) * 100).round(2)\n",
    "tmp"
   ]
  },
  {
   "cell_type": "markdown",
   "id": "5",
   "metadata": {},
   "source": [
    "### Look at crashed test cases"
   ]
  },
  {
   "cell_type": "code",
   "execution_count": null,
   "id": "6",
   "metadata": {},
   "outputs": [],
   "source": [
    "FAILED_RES = [it for it in RES if not it.passed and not it.crashed]\n",
    "print(f\"{len(FAILED_RES)} out of {len(RES)} tests failed.\")\n",
    "\n",
    "CRASHED_RES = [it for it in RES if it.crashed]\n",
    "print(f\"{len(CRASHED_RES)} out of {len(RES)} tests crashed.\")"
   ]
  },
  {
   "cell_type": "markdown",
   "id": "7",
   "metadata": {},
   "source": [
    "What kind of errors happened?"
   ]
  },
  {
   "cell_type": "code",
   "execution_count": null,
   "id": "8",
   "metadata": {},
   "outputs": [],
   "source": [
    "pd.Series(\n",
    "    it.error_messages[0].strip().rsplit(\"\\n\", 1)[-1]\n",
    "    for it in CRASHED_RES\n",
    ").value_counts()"
   ]
  },
  {
   "cell_type": "markdown",
   "id": "9",
   "metadata": {},
   "source": [
    "Look at individual crashed tests."
   ]
  },
  {
   "cell_type": "code",
   "execution_count": null,
   "id": "10",
   "metadata": {},
   "outputs": [],
   "source": [
    "current = -1"
   ]
  },
  {
   "cell_type": "code",
   "execution_count": null,
   "id": "11",
   "metadata": {},
   "outputs": [],
   "source": [
    "# Run this cell multiple times!\n",
    "current += 1\n",
    "\n",
    "if current < len(CRASHED_RES):\n",
    "    print(current)\n",
    "    CRASHED_RES[current].print_markdown()\n",
    "else:\n",
    "    print(\"No more crashed tests.\")"
   ]
  },
  {
   "cell_type": "markdown",
   "id": "12",
   "metadata": {},
   "source": [
    "## Look at failed test cases"
   ]
  },
  {
   "cell_type": "code",
   "execution_count": null,
   "id": "13",
   "metadata": {},
   "outputs": [],
   "source": [
    "current = -1"
   ]
  },
  {
   "cell_type": "code",
   "execution_count": null,
   "id": "14",
   "metadata": {},
   "outputs": [],
   "source": [
    "# Run this cell multiple times!\n",
    "current += 1\n",
    "\n",
    "if current < len(FAILED_RES):\n",
    "    print(current)\n",
    "    FAILED_RES[current].print_markdown()\n",
    "else:\n",
    "    print(\"No more failed tests.\")"
   ]
  }
 ],
 "metadata": {
  "kernelspec": {
   "display_name": ".venv.server",
   "language": "python",
   "name": "python3"
  },
  "language_info": {
   "codemirror_mode": {
    "name": "ipython",
    "version": 3
   },
   "file_extension": ".py",
   "mimetype": "text/x-python",
   "name": "python",
   "nbconvert_exporter": "python",
   "pygments_lexer": "ipython3",
   "version": "3.12.8"
  }
 },
 "nbformat": 4,
 "nbformat_minor": 5
}
