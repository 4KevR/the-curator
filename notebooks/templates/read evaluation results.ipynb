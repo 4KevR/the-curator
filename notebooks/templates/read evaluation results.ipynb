{
 "cells": [
  {
   "metadata": {},
   "cell_type": "code",
   "source": [
    "import os\n",
    "import json\n",
    "\n",
    "import pandas as pd\n",
    "from IPython.display import display, HTML, Markdown\n",
    "import markdown\n",
    "\n",
    "from src.backend.modules.evaluation.run_tests.test_eval_result import TestEvalResult\n",
    "\n",
    "\n",
    "def print_markdown(test_eval_result: TestEvalResult):\n",
    "    markdown_content = test_eval_result.to_markdown()\n",
    "    html_wrapper = f\"\"\"\n",
    "    <div style=\"max-width: 900px; margin: auto; font-size: 14px;\">\n",
    "    {markdown.markdown(markdown_content)}\n",
    "    </div>\n",
    "    \"\"\"\n",
    "\n",
    "    display(HTML(html_wrapper))\n",
    "\n",
    "\n",
    "TestEvalResult.print_markdown = print_markdown"
   ],
   "id": "4431377678f2c5af",
   "outputs": [],
   "execution_count": null
  },
  {
   "metadata": {},
   "cell_type": "markdown",
   "source": [
    "\n",
    "# Interaction Tests"
   ],
   "id": "bf158404509bff6c"
  },
  {
   "metadata": {},
   "cell_type": "code",
   "source": [
    "\n",
    "eval_file_to_read = max(os.listdir(\"../data/logs\"))\n",
    "print(f\"Reading evaluation log from '{eval_file_to_read}'.\")\n",
    "\n",
    "with open(f\"../data/logs/{eval_file_to_read}\", \"r\") as f:\n",
    "    RES = [TestEvalResult(**item) for item in json.load(f)]\n"
   ],
   "id": "f1c37b6704b8ba2a",
   "outputs": [],
   "execution_count": null
  },
  {
   "metadata": {},
   "cell_type": "code",
   "source": "",
   "id": "c16b908fe6b25e3e",
   "outputs": [],
   "execution_count": null
  },
  {
   "metadata": {},
   "cell_type": "code",
   "source": [
    "print(f\"Total time taken: {sum(it.time_taken_s for it in RES):.2f} seconds.\")\n",
    "print(f\"Total tests run: {len(RES)}.\")"
   ],
   "id": "3ca54ad04d93c275",
   "outputs": [],
   "execution_count": null
  },
  {
   "metadata": {},
   "cell_type": "code",
   "source": [
    "tmp = pd.DataFrame()\n",
    "raw = [\"crashed\" if r.crashed else (\"passed\" if r.passed else \"failed\") for r in RES]\n",
    "tmp[\"abs\"] = (pd.Series(raw + [\"crashed\", \"passed\", \"failed\"]).value_counts() - 1).sort_index()\n",
    "tmp[\"rel\"] = (tmp[\"abs\"] / sum(tmp[\"abs\"]) * 100).round(2)\n",
    "tmp"
   ],
   "id": "661110a279a9bc57",
   "outputs": [],
   "execution_count": null
  },
  {
   "metadata": {},
   "cell_type": "code",
   "source": "",
   "id": "c6a28693aa4ae74d",
   "outputs": [],
   "execution_count": null
  },
  {
   "metadata": {},
   "cell_type": "markdown",
   "source": "### Look at crashed test cases",
   "id": "4a265d22d8e2bb9b"
  },
  {
   "metadata": {},
   "cell_type": "code",
   "source": [
    "FAILED_RES = [it for it in RES if not it.passed and not it.crashed]\n",
    "print(f\"{len(FAILED_RES)} out of {len(RES)} tests failed.\")\n",
    "\n",
    "CRASHED_RES = [it for it in RES if it.crashed]\n",
    "print(f\"{len(CRASHED_RES)} out of {len(RES)} tests crashed.\")"
   ],
   "id": "23cea0cd837d8a48",
   "outputs": [],
   "execution_count": null
  },
  {
   "metadata": {},
   "cell_type": "markdown",
   "source": "What kind of errors happened?",
   "id": "d1da98705dbf363d"
  },
  {
   "metadata": {},
   "cell_type": "code",
   "source": [
    "pd.Series(\n",
    "    it.error_messages[0].strip().rsplit(\"\\n\", 1)[-1]\n",
    "    for it in CRASHED_RES\n",
    ").value_counts()"
   ],
   "id": "1682cba074261d24",
   "outputs": [],
   "execution_count": null
  },
  {
   "metadata": {},
   "cell_type": "markdown",
   "source": "Look at individual crashed tests.",
   "id": "b415559d44666276"
  },
  {
   "metadata": {},
   "cell_type": "code",
   "source": "current = -1",
   "id": "2597e11311ca7af9",
   "outputs": [],
   "execution_count": null
  },
  {
   "metadata": {},
   "cell_type": "code",
   "source": [
    "# Run this cell multiple times!\n",
    "current += 1\n",
    "\n",
    "if current < len(CRASHED_RES):\n",
    "    print(current)\n",
    "    CRASHED_RES[current].print_markdown()\n",
    "else:\n",
    "    print(\"No more crashed tests.\")"
   ],
   "id": "6bb34e495f2ea849",
   "outputs": [],
   "execution_count": null
  },
  {
   "metadata": {},
   "cell_type": "code",
   "source": "",
   "id": "4850e10f9fc9090c",
   "outputs": [],
   "execution_count": null
  },
  {
   "metadata": {},
   "cell_type": "code",
   "source": "",
   "id": "d1093e3d56454865",
   "outputs": [],
   "execution_count": null
  },
  {
   "metadata": {},
   "cell_type": "code",
   "source": "",
   "id": "dfad6c642cf6268",
   "outputs": [],
   "execution_count": null
  },
  {
   "metadata": {},
   "cell_type": "markdown",
   "source": "## Look at failed test cases",
   "id": "8a633ec3b58d670e"
  },
  {
   "metadata": {},
   "cell_type": "code",
   "source": "current = -1",
   "id": "93507be5df92a35c",
   "outputs": [],
   "execution_count": null
  },
  {
   "metadata": {},
   "cell_type": "code",
   "source": [
    "# Run this cell multiple times!\n",
    "current += 1\n",
    "\n",
    "if current < len(FAILED_RES):\n",
    "    print(current)\n",
    "    FAILED_RES[current].print_markdown()\n",
    "else:\n",
    "    print(\"No more failed tests.\")"
   ],
   "id": "53d74749813bf9c0",
   "outputs": [],
   "execution_count": null
  },
  {
   "metadata": {},
   "cell_type": "code",
   "source": "",
   "id": "b6d6684e85b28930",
   "outputs": [],
   "execution_count": null
  },
  {
   "metadata": {},
   "cell_type": "code",
   "source": "",
   "id": "3065ae13174e2286",
   "outputs": [],
   "execution_count": null
  },
  {
   "metadata": {},
   "cell_type": "code",
   "source": "",
   "id": "1da8320d8c50e5d9",
   "outputs": [],
   "execution_count": null
  },
  {
   "metadata": {},
   "cell_type": "markdown",
   "source": "# TMP Working Cells!\n",
   "id": "6174fdbf5b62d3c9"
  },
  {
   "metadata": {},
   "cell_type": "code",
   "source": "",
   "id": "83b49dbdd8ccbbd9",
   "outputs": [],
   "execution_count": null
  },
  {
   "metadata": {},
   "cell_type": "code",
   "source": "",
   "id": "c0609048eb22b759",
   "outputs": [],
   "execution_count": null
  },
  {
   "metadata": {},
   "cell_type": "code",
   "source": "",
   "id": "3b0cb3c4a733c615",
   "outputs": [],
   "execution_count": null
  },
  {
   "metadata": {},
   "cell_type": "code",
   "source": "",
   "id": "ca4b39dc22bbc583",
   "outputs": [],
   "execution_count": null
  },
  {
   "metadata": {},
   "cell_type": "code",
   "source": "",
   "id": "f62adec654fca9a7",
   "outputs": [],
   "execution_count": null
  },
  {
   "metadata": {},
   "cell_type": "code",
   "source": "",
   "id": "f9a0566d7177abb",
   "outputs": [],
   "execution_count": null
  },
  {
   "metadata": {},
   "cell_type": "code",
   "source": "",
   "id": "93e7b47483fdbe82",
   "outputs": [],
   "execution_count": null
  }
 ],
 "metadata": {
  "kernelspec": {
   "display_name": "Python 3",
   "language": "python",
   "name": "python3"
  },
  "language_info": {
   "codemirror_mode": {
    "name": "ipython",
    "version": 2
   },
   "file_extension": ".py",
   "mimetype": "text/x-python",
   "name": "python",
   "nbconvert_exporter": "python",
   "pygments_lexer": "ipython2",
   "version": "2.7.6"
  }
 },
 "nbformat": 4,
 "nbformat_minor": 5
}
