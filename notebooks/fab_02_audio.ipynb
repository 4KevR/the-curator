{
 "cells": [
  {
   "metadata": {},
   "cell_type": "markdown",
   "source": "## Audio",
   "id": "13979a998ddadf03"
  },
  {
   "metadata": {},
   "cell_type": "code",
   "source": [
    "import tensorflow as tf\n",
    "import sounddevice as sd\n",
    "import scipy.io.wavfile as wav\n",
    "from transformers import AutoModelForSpeechSeq2Seq, AutoProcessor, pipeline\n",
    "import torch"
   ],
   "id": "b656ea7ce6cdf4e6",
   "outputs": [],
   "execution_count": null
  },
  {
   "metadata": {
    "ExecuteTime": {
     "end_time": "2025-06-12T15:41:02.435606Z",
     "start_time": "2025-06-12T15:41:02.360226Z"
    }
   },
   "cell_type": "code",
   "source": [
    "\n",
    "gpus = tf.config.list_physical_devices('GPU')\n",
    "print(\"GPUs Available:\", len(gpus))\n",
    "for gpu in gpus:\n",
    "    print(gpu)\n",
    "\n",
    "print(torch.cuda.is_available())\n",
    "print(torch.cuda.device_count())\n"
   ],
   "id": "dbd8f1d5acd0f2ba",
   "outputs": [
    {
     "name": "stdout",
     "output_type": "stream",
     "text": [
      "GPUs Available: 1\n",
      "PhysicalDevice(name='/physical_device:GPU:0', device_type='GPU')\n",
      "True\n",
      "1\n"
     ]
    },
    {
     "name": "stderr",
     "output_type": "stream",
     "text": [
      "W0000 00:00:1749742862.405234   48337 gpu_device.cc:2430] TensorFlow was not built with CUDA kernel binaries compatible with compute capability 12.0. CUDA kernels will be jit-compiled from PTX, which could take 30 minutes or longer.\n"
     ]
    }
   ],
   "execution_count": 2
  },
  {
   "metadata": {},
   "cell_type": "code",
   "source": [
    "# Record audio from microphone\n",
    "def record_audio(duration=5, fs=16000):\n",
    "    print(\"Recording...\")\n",
    "    audio = sd.rec(int(duration * fs), samplerate=fs, channels=1, dtype='int16')\n",
    "    sd.wait()\n",
    "    print(\"Recording finished.\")\n",
    "    return audio.flatten(), fs\n",
    "\n",
    "\n",
    "# Save audio to a temporary WAV file\n",
    "def save_wav(audio, fs, filename=\"temp.wav\"):\n",
    "    wav.write(filename, fs, audio)\n",
    "    return filename\n",
    "\n",
    "\n",
    "def create_pipeline(only_cpu: bool = False) -> pipeline:\n",
    "    device = \"cuda:0\" if not only_cpu and torch.cuda.is_available() else \"cpu\"\n",
    "    print(f\"Using device {device}.\")\n",
    "    torch_dtype = torch.float16 if torch.cuda.is_available() else torch.float32\n",
    "    model_id = \"openai/whisper-medium\"\n",
    "\n",
    "    model = AutoModelForSpeechSeq2Seq.from_pretrained(\n",
    "        model_id, torch_dtype=torch_dtype, low_cpu_mem_usage=True, use_safetensors=True\n",
    "    )\n",
    "    model.to(device)\n",
    "    processor = AutoProcessor.from_pretrained(model_id)\n",
    "    return pipeline(\n",
    "        \"automatic-speech-recognition\",\n",
    "        model=model,\n",
    "        tokenizer=processor.tokenizer,\n",
    "        feature_extractor=processor.feature_extractor,\n",
    "        torch_dtype=torch_dtype,\n",
    "        device=device,\n",
    "    )\n",
    "\n",
    "\n",
    "pipe = create_pipeline(only_cpu=False)\n",
    "\n",
    "\n",
    "# Load and transcribe audio\n",
    "def transcribe(filename):\n",
    "    result = pipe(filename)\n",
    "    print(\"Transcription:\", result)"
   ],
   "id": "175bf6728d6c2bd4",
   "outputs": [],
   "execution_count": null
  },
  {
   "metadata": {},
   "cell_type": "code",
   "source": [
    "audio, fs = record_audio(duration=10, fs=16000)\n",
    "filename = save_wav(audio, fs)\n",
    "transcribe(filename)"
   ],
   "id": "59c2646125455017",
   "outputs": [],
   "execution_count": null
  },
  {
   "metadata": {},
   "cell_type": "code",
   "source": "",
   "id": "94b558683341b9f2",
   "outputs": [],
   "execution_count": null
  },
  {
   "metadata": {},
   "cell_type": "code",
   "source": [
    "# import sounddevice as sd\n",
    "# import numpy as np\n",
    "#\n",
    "# def audio_stream(chunk_duration=1, fs=16000):\n",
    "#     chunk_samples = int(chunk_duration * fs)\n",
    "#     with sd.InputStream(samplerate=fs, channels=1, dtype='int16') as stream:\n",
    "#         print(\"Live transcription started. Speak into the microphone.\")\n",
    "#         while True:\n",
    "#             audio_chunk, _ = stream.read(chunk_samples)\n",
    "#             yield audio_chunk.flatten()\n",
    "#\n",
    "# for chunk in audio_stream():\n",
    "#     audio_float = (chunk / 32768.0).astype(np.float32)\n",
    "#     # Pass as dict with 'array' and 'sampling_rate'\n",
    "#     result = pipe({\"array\": audio_float, \"sampling_rate\": 16000})\n",
    "#     print(\"You said:\", result[\"text\"])"
   ],
   "id": "1d18834fa443e9f6",
   "outputs": [],
   "execution_count": null
  }
 ],
 "metadata": {
  "kernelspec": {
   "display_name": "Python 3",
   "language": "python",
   "name": "python3"
  },
  "language_info": {
   "codemirror_mode": {
    "name": "ipython",
    "version": 2
   },
   "file_extension": ".py",
   "mimetype": "text/x-python",
   "name": "python",
   "nbconvert_exporter": "python",
   "pygments_lexer": "ipython2",
   "version": "2.7.6"
  }
 },
 "nbformat": 4,
 "nbformat_minor": 5
}
