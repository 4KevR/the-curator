{
 "cells": [
  {
   "cell_type": "markdown",
   "id": "0",
   "metadata": {},
   "source": [
    "## Audio"
   ]
  },
  {
   "cell_type": "code",
   "execution_count": null,
   "id": "1",
   "metadata": {},
   "outputs": [],
   "source": [
    "import tensorflow as tf\n",
    "import sounddevice as sd\n",
    "import scipy.io.wavfile as wav\n",
    "from transformers import AutoModelForSpeechSeq2Seq, AutoProcessor, pipeline\n",
    "import torch"
   ]
  },
  {
   "cell_type": "code",
   "execution_count": null,
   "id": "2",
   "metadata": {},
   "outputs": [],
   "source": [
    "gpus = tf.config.list_physical_devices(\"GPU\")\n",
    "print(\"GPUs Available:\", len(gpus))\n",
    "for gpu in gpus:\n",
    "    print(gpu)\n",
    "\n",
    "print(torch.cuda.is_available())\n",
    "print(torch.cuda.device_count())"
   ]
  },
  {
   "cell_type": "code",
   "execution_count": null,
   "id": "3",
   "metadata": {},
   "outputs": [],
   "source": [
    "# Record audio from microphone\n",
    "def record_audio(duration=5, fs=16000):\n",
    "    print(\"Recording...\")\n",
    "    audio = sd.rec(int(duration * fs), samplerate=fs, channels=1, dtype=\"int16\")\n",
    "    sd.wait()\n",
    "    print(\"Recording finished.\")\n",
    "    return audio.flatten(), fs\n",
    "\n",
    "\n",
    "# Save audio to a temporary WAV file\n",
    "def save_wav(audio, fs, filename=\"temp.wav\"):\n",
    "    wav.write(filename, fs, audio)\n",
    "    return filename\n",
    "\n",
    "\n",
    "def create_pipeline(only_cpu: bool = False) -> pipeline:\n",
    "    device = \"cuda:0\" if not only_cpu and torch.cuda.is_available() else \"cpu\"\n",
    "    print(f\"Using device {device}.\")\n",
    "    torch_dtype = torch.float16 if torch.cuda.is_available() else torch.float32\n",
    "    model_id = \"openai/whisper-medium\"\n",
    "\n",
    "    model = AutoModelForSpeechSeq2Seq.from_pretrained(\n",
    "        model_id, torch_dtype=torch_dtype, low_cpu_mem_usage=True, use_safetensors=True\n",
    "    )\n",
    "    model.to(device)\n",
    "    processor = AutoProcessor.from_pretrained(model_id)\n",
    "    return pipeline(\n",
    "        \"automatic-speech-recognition\",\n",
    "        model=model,\n",
    "        tokenizer=processor.tokenizer,\n",
    "        feature_extractor=processor.feature_extractor,\n",
    "        torch_dtype=torch_dtype,\n",
    "        device=device,\n",
    "    )\n",
    "\n",
    "\n",
    "pipe = create_pipeline(only_cpu=False)\n",
    "\n",
    "\n",
    "# Load and transcribe audio\n",
    "def transcribe(filename):\n",
    "    result = pipe(filename)\n",
    "    print(\"Transcription:\", result)"
   ]
  },
  {
   "cell_type": "code",
   "execution_count": null,
   "id": "4",
   "metadata": {},
   "outputs": [],
   "source": [
    "audio, fs = record_audio(duration=10, fs=16000)\n",
    "filename = save_wav(audio, fs)\n",
    "transcribe(filename)"
   ]
  },
  {
   "cell_type": "code",
   "execution_count": null,
   "id": "5",
   "metadata": {},
   "outputs": [],
   "source": []
  },
  {
   "cell_type": "code",
   "execution_count": null,
   "id": "6",
   "metadata": {},
   "outputs": [],
   "source": [
    "# import sounddevice as sd\n",
    "# import numpy as np\n",
    "#\n",
    "# def audio_stream(chunk_duration=1, fs=16000):\n",
    "#     chunk_samples = int(chunk_duration * fs)\n",
    "#     with sd.InputStream(samplerate=fs, channels=1, dtype='int16') as stream:\n",
    "#         print(\"Live transcription started. Speak into the microphone.\")\n",
    "#         while True:\n",
    "#             audio_chunk, _ = stream.read(chunk_samples)\n",
    "#             yield audio_chunk.flatten()\n",
    "#\n",
    "# for chunk in audio_stream():\n",
    "#     audio_float = (chunk / 32768.0).astype(np.float32)\n",
    "#     # Pass as dict with 'array' and 'sampling_rate'\n",
    "#     result = pipe({\"array\": audio_float, \"sampling_rate\": 16000})\n",
    "#     print(\"You said:\", result[\"text\"])"
   ]
  }
 ],
 "metadata": {
  "kernelspec": {
   "display_name": "Python 3",
   "language": "python",
   "name": "python3"
  },
  "language_info": {
   "codemirror_mode": {
    "name": "ipython",
    "version": 2
   },
   "file_extension": ".py",
   "mimetype": "text/x-python",
   "name": "python",
   "nbconvert_exporter": "python",
   "pygments_lexer": "ipython2",
   "version": "2.7.6"
  }
 },
 "nbformat": 4,
 "nbformat_minor": 5
}
