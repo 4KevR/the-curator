{
 "cells": [
  {
   "metadata": {},
   "cell_type": "markdown",
   "source": [
    "## Minimal Prompt Change -> Result Change\n",
    "\n",
    "This notebook contains an example of how a small, unrelated change in the prompt can change the result. This should be a warning against changing state prompts without testing!\n",
    "\n"
   ],
   "id": "e90ce44f1ad673a0"
  },
  {
   "metadata": {},
   "cell_type": "markdown",
   "source": "### Non-Project imports/setup",
   "id": "7f76051b17f828b"
  },
  {
   "metadata": {
    "ExecuteTime": {
     "end_time": "2025-06-23T21:36:58.336245Z",
     "start_time": "2025-06-23T21:36:58.105571Z"
    }
   },
   "cell_type": "code",
   "source": [
    "import os\n",
    "from pathlib import Path\n",
    "\n",
    "# Set working dir to project root\n",
    "root_dir_name = \"the-curator\"\n",
    "\n",
    "if not Path.cwd().name == root_dir_name:\n",
    "    for parent in Path.cwd().parents:\n",
    "        if parent.name == root_dir_name:\n",
    "            os.chdir(parent)\n",
    "            print(f\"Current working directory set to: {os.getcwd()}\")\n",
    "            break\n",
    "    else:\n",
    "        raise RuntimeError(f\"The root directory '{root_dir_name}' is not a parent of the current working directory.\")\n",
    "\n",
    "import logging  # noqa E402\n",
    "import os  # noqa E402\n",
    "import sys  # noqa E402\n",
    "import warnings  # noqa E402\n",
    "from datetime import datetime  # noqa E402\n",
    "from zoneinfo import ZoneInfo  # noqa E402\n",
    "\n",
    "import pandas as pd  # noqa E402\n",
    "from dotenv import load_dotenv  # noqa E402\n",
    "\n",
    "# test that the current working dir is \"the-curator\"\n",
    "if os.path.basename(os.path.abspath(\"..\")) != \"the-curator\":\n",
    "    raise RuntimeError(\"This script must be run from the 'the-curator' directory.\")\n",
    "\n",
    "# must happen before project imports!\n",
    "if not (os.path.exists(\".env\") and os.path.exists(\".env.db\")):\n",
    "    raise FileNotFoundError(\"No .env or .env.db found.\")\n",
    "\n",
    "load_dotenv(\".env\")\n",
    "load_dotenv(\".env.db\")\n",
    "\n",
    "logging.basicConfig(level=logging.WARN)\n",
    "\n",
    "# Suppress FutureWarning from transformers\n",
    "warnings.filterwarnings(\"ignore\", category=FutureWarning)\n",
    "logging.getLogger(\"transformers\").setLevel(logging.ERROR)\n"
   ],
   "id": "753225e2338a74a2",
   "outputs": [
    {
     "name": "stdout",
     "output_type": "stream",
     "text": [
      "Current working directory set to: /home/fab/Dokumente/Schule/Universität/12. Semester inkl Ilias/Info LLM Praktikum/the-curator\n"
     ]
    }
   ],
   "execution_count": 1
  },
  {
   "metadata": {},
   "cell_type": "markdown",
   "source": "### Project imports/setup",
   "id": "d5d82e0aade709ba"
  },
  {
   "metadata": {
    "ExecuteTime": {
     "end_time": "2025-06-23T21:36:58.918622Z",
     "start_time": "2025-06-23T21:36:58.422694Z"
    }
   },
   "cell_type": "code",
   "source": [
    "from src.backend.modules.llm.lm_studio_llm import LMStudioLLM\n",
    "\n",
    "task_llm = LMStudioLLM(\"meta-llama-3.1-8b-instruct\", 0.05, 2048)"
   ],
   "id": "9be2fd2cca984212",
   "outputs": [
    {
     "name": "stderr",
     "output_type": "stream",
     "text": [
      "/home/fab/Dokumente/Schule/Universität/12. Semester inkl Ilias/Info LLM Praktikum/the-curator/.venv1/lib/python3.12/site-packages/tqdm/auto.py:21: TqdmWarning: IProgress not found. Please update jupyter and ipywidgets. See https://ipywidgets.readthedocs.io/en/stable/user_install.html\n",
      "  from .autonotebook import tqdm as notebook_tqdm\n"
     ]
    }
   ],
   "execution_count": 2
  },
  {
   "cell_type": "code",
   "id": "initial_id",
   "metadata": {
    "collapsed": true,
    "ExecuteTime": {
     "end_time": "2025-06-23T21:36:58.928969Z",
     "start_time": "2025-06-23T21:36:58.926085Z"
    }
   },
   "source": [
    "def send_to_llm(message, iterations):\n",
    "    all = []\n",
    "    for i in range(iterations):\n",
    "        print(f\"\\r{i}   \", end=\"\")\n",
    "        res = task_llm.generate([{\"role\": \"user\", \"content\": message}])\n",
    "        res = res.replace(\"    \", \"  \")  # we are not here to compare spaces. That is not the point.\n",
    "        all.append(res)\n",
    "\n",
    "    if len(set(all)) == 1:\n",
    "        print(f\"\\nAll {iterations} responses are the same!\")\n",
    "    else:\n",
    "        print(f\"\\nNot all responses are the same! Got {len(set(all))} different responses.\")\n",
    "        print(\"\\n---------------\\n\".join(set(all)))\n",
    "\n",
    "    return all[0]"
   ],
   "outputs": [],
   "execution_count": 3
  },
  {
   "metadata": {},
   "cell_type": "markdown",
   "source": "### Message comparison",
   "id": "b380985200ede1e2"
  },
  {
   "metadata": {
    "ExecuteTime": {
     "end_time": "2025-06-23T21:36:58.974625Z",
     "start_time": "2025-06-23T21:36:58.972269Z"
    }
   },
   "cell_type": "code",
   "source": [
    "message_1 = \"\"\"You are an assistant of a flashcard management system.\n",
    "You assist a user in executing tasks (creating/modifying/deleting cards/decks etc.).\n",
    "\n",
    "The user gave the following input:\n",
    "\n",
    "In the java_10 deck, please execute the following two tasks:\n",
    "* Replace all mentions of 'method' by 'function'.\n",
    "* Remove all mentions of 'in Java' etc.\n",
    "\n",
    "Thanks!\n",
    "\n",
    "You decided to search for cards. You wanted me to present you every single card you found.\n",
    "I will now show you the cards one-by-one. You will only ever be able to see a single card. Here is the current card:\n",
    "\n",
    "Card  from the deck Java Programming 10 with flag none and state new.\n",
    "\n",
    "**Question**: What is the purpose of the 'main' method in Java?\n",
    "\n",
    "**Answer**: It's the entry point to start program execution.\n",
    "\n",
    "You have the following options:\n",
    "\n",
    " * Doing nothing: Respond \"do_nothing\".\n",
    " * Delete that card: Respond \"delete_card\".\n",
    " * Edit that card. Respond with \"edit_card\" and the following, filled-out template:\n",
    " {\n",
    "    \"question\": \"<new question here>\",\n",
    "    \"answer\": \"<new answer here>\",\n",
    "    \"flag\": \"<new flag here>\",\n",
    "    \"state\": \"<new card state here>\"\n",
    " }\n",
    "  These flag options exist: [\"none\", \"red\", \"orange\", \"green\", \"blue\", \"pink\", \"turquoise\", \"purple\"]\n",
    "  These card state options exist: [\"new\", \"learning\", \"review\", \"suspended\", \"buried\"]\n",
    "  If you do not wish to change some attributes, you should omit it from your response.\n",
    "\n",
    "Please answer only with the operation you want to perform in the given format, and answer nothing else!\n",
    "\"\"\".strip()"
   ],
   "id": "a6535fd98b7b7a8d",
   "outputs": [],
   "execution_count": 4
  },
  {
   "metadata": {
    "ExecuteTime": {
     "end_time": "2025-06-23T21:36:59.024320Z",
     "start_time": "2025-06-23T21:36:59.021103Z"
    }
   },
   "cell_type": "code",
   "source": "message_2 = message_1.replace(\"'method'\", \"'methods'\")",
   "id": "6d37e3eac5d432ad",
   "outputs": [],
   "execution_count": 5
  },
  {
   "metadata": {
    "ExecuteTime": {
     "end_time": "2025-06-23T21:37:04.598416Z",
     "start_time": "2025-06-23T21:36:59.067335Z"
    }
   },
   "cell_type": "code",
   "source": [
    "res_1 = send_to_llm(message_1, 10)\n",
    "print(res_1)"
   ],
   "id": "d4aac827628478e3",
   "outputs": [
    {
     "name": "stdout",
     "output_type": "stream",
     "text": [
      "9   \n",
      "All 10 responses are the same!\n",
      "edit_card {\n",
      "  \"question\": \"What is the purpose of the 'main' function in Java?\",\n",
      "  \"answer\": \"It's the entry point to start program execution.\",\n",
      "  \"flag\": \"none\",\n",
      "  \"state\": \"new\"\n",
      "}\n"
     ]
    }
   ],
   "execution_count": 6
  },
  {
   "metadata": {
    "ExecuteTime": {
     "end_time": "2025-06-23T21:37:10.028368Z",
     "start_time": "2025-06-23T21:37:04.614621Z"
    }
   },
   "cell_type": "code",
   "source": [
    "res_2 = send_to_llm(message_2, 10)\n",
    "print(res_2)"
   ],
   "id": "a15816f28c36c8c0",
   "outputs": [
    {
     "name": "stdout",
     "output_type": "stream",
     "text": [
      "9   \n",
      "All 10 responses are the same!\n",
      "edit_card {\n",
      "  \"question\": \"What is the purpose of the 'main' function?\",\n",
      "  \"answer\": \"It's the entry point to start program execution.\",\n",
      "  \"flag\": \"none\",\n",
      "  \"state\": \"new\"\n",
      "}\n"
     ]
    }
   ],
   "execution_count": 7
  },
  {
   "metadata": {
    "ExecuteTime": {
     "end_time": "2025-06-23T21:37:10.040746Z",
     "start_time": "2025-06-23T21:37:10.038361Z"
    }
   },
   "cell_type": "code",
   "source": "",
   "id": "2dc084e9c97d37a2",
   "outputs": [],
   "execution_count": null
  },
  {
   "metadata": {},
   "cell_type": "markdown",
   "source": "### Backup: Original code creating prompt",
   "id": "d85a435b38e1a917"
  },
  {
   "metadata": {
    "ExecuteTime": {
     "end_time": "2025-06-23T21:37:10.090593Z",
     "start_time": "2025-06-23T21:37:10.086801Z"
    }
   },
   "cell_type": "code",
   "source": [
    "# # original code\n",
    "# tests = load_test_data(\"tests/data/tests.json\")\n",
    "# _prompt_template = \"\"\"\n",
    "# You are an assistant of a flashcard management system.\n",
    "# You assist a user in executing tasks (creating/modifying/deleting cards/decks etc.).\n",
    "#\n",
    "# The user gave the following input:\n",
    "#\n",
    "# {user_input}\n",
    "#\n",
    "# You decided to search for cards. You wanted me to present you every single card you found.\n",
    "# I will now show you the cards one-by-one. You will only ever be able to see a single card. Here is the current card:\n",
    "#\n",
    "# {card}\n",
    "#\n",
    "# You have the following options:\n",
    "#\n",
    "#  * Doing nothing: Respond \"do_nothing\".\n",
    "#  * Delete that card: Respond \"delete_card\".\n",
    "#  * Edit that card. Respond with \"edit_card\" and the following, filled-out template:\n",
    "#  {{\n",
    "#     \"question\": \"<new question here>\",\n",
    "#     \"answer\": \"<new answer here>\",\n",
    "#     \"flag\": \"<new flag here>\",\n",
    "#     \"state\": \"<new card state here>\"\n",
    "#  }}\n",
    "#   These flag options exist: [\"none\", \"red\", \"orange\", \"green\", \"blue\", \"pink\", \"turquoise\", \"purple\"]\n",
    "#   These card state options exist: [\"new\", \"learning\", \"review\", \"suspended\", \"buried\"]\n",
    "#   If you do not wish to change some attributes, you should omit it from your response.\n",
    "#\n",
    "# Please answer only with the operation you want to perform in the given format, and answer nothing else!\n",
    "# \"\"\".strip()\n",
    "# prompt = \"In the java_10 deck, please execute the following two tasks:\\n* Replace all mentions of 'method' by 'function'.\\n* Remove all mentions of 'in Java' etc.\\n\\nThanks!\"\n",
    "# cards = tests.test_flashcard_manager.get_deck_by_name(\"Java Programming 10\").cards\n",
    "#\n",
    "# card = cards[0]\n",
    "# card.question\n"
   ],
   "id": "8c331f94482b6529",
   "outputs": [],
   "execution_count": 8
  }
 ],
 "metadata": {
  "kernelspec": {
   "display_name": "Python 3",
   "language": "python",
   "name": "python3"
  },
  "language_info": {
   "codemirror_mode": {
    "name": "ipython",
    "version": 2
   },
   "file_extension": ".py",
   "mimetype": "text/x-python",
   "name": "python",
   "nbconvert_exporter": "python",
   "pygments_lexer": "ipython2",
   "version": "2.7.6"
  }
 },
 "nbformat": 4,
 "nbformat_minor": 5
}
