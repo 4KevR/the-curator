{
 "cells": [
  {
   "metadata": {},
   "cell_type": "code",
   "source": [
    "import sys\n",
    "import os\n",
    "from dotenv import load_dotenv\n",
    "\n",
    "# must happen before other imports!\n",
    "sys.path.append(os.path.abspath(\"../\"))\n",
    "load_dotenv(\"../.env\")\n",
    "load_dotenv(\"../.env.db\")"
   ],
   "id": "4431377678f2c5af",
   "outputs": [],
   "execution_count": null
  },
  {
   "metadata": {},
   "cell_type": "code",
   "source": [
    "# also should happen before other imports.\n",
    "import logging\n",
    "\n",
    "logging.basicConfig(level=logging.INFO)"
   ],
   "id": "3969b0d0fc12d55b",
   "outputs": [],
   "execution_count": null
  },
  {
   "cell_type": "code",
   "id": "93b07f47693bcd4a",
   "metadata": {},
   "source": [
    "from zoneinfo import ZoneInfo\n",
    "from datetime import datetime\n",
    "from src.backend.modules.search.llama_index import LlamaIndexExecutor\n",
    "from src.backend.modules.ai_assistant.llm_interactor.llm_interactor_test import LLMInteractorTest\n",
    "from src.backend.modules.asr.local_whisper_asr import LocalWhisperASR\n",
    "from src.backend.modules.evaluation.run_tests.EvaluationPipeline import EvaluationPipeline\n",
    "from src.backend.modules.llm.lm_studio_llm import LMStudioLLM\n",
    "from src.backend.modules.srs.testsrs.testsrs import TestFlashcardManager\n"
   ],
   "outputs": [],
   "execution_count": null
  },
  {
   "metadata": {},
   "cell_type": "code",
   "source": "",
   "id": "f8ba3eccc9dbd17e",
   "outputs": [],
   "execution_count": null
  },
  {
   "metadata": {},
   "cell_type": "code",
   "source": [
    "# define llms\n",
    "task_llm = LMStudioLLM(model=\"Meta-Llama-3.1-8B-Instruct\", default_temperature=0.8, default_max_tokens=2048)\n",
    "comparison_llm = LMStudioLLM(model=\"Meta-Llama-3.1-8B-Instruct\", default_temperature=0.0, default_max_tokens=50)\n",
    "now = datetime.now(ZoneInfo(\"Europe/Berlin\")).strftime(\"%Y-%m-%d %H:%M:%S %z\")\n",
    "\n",
    "eval_pipeline = EvaluationPipeline(\n",
    "    asr=LocalWhisperASR(\"openai/whisper-medium\"),\n",
    "    llm_interactor=LLMInteractorTest(TestFlashcardManager(), comparison_llm, LlamaIndexExecutor()),\n",
    "    task_llm=task_llm,\n",
    "    fuzzy_matching_llm=comparison_llm,\n",
    "    llm_judge=comparison_llm,\n",
    "    audio_recording_dir_path=\"../data/recording_data/fabian\",\n",
    "    default_max_messages=15,\n",
    "    default_max_errors=4,\n",
    "    max_stream_messages_per_chunk=5,\n",
    "    max_stream_errors_per_chunk=3,\n",
    "    verbose_task_execution=True,\n",
    "    print_progress=True,\n",
    "    log_file_path=f\"../data/logs/{now} evaluation_log.json\"\n",
    ")"
   ],
   "id": "initial_id",
   "outputs": [],
   "execution_count": null
  },
  {
   "metadata": {},
   "cell_type": "code",
   "source": [
    "from src.backend.modules.evaluation.load_test_data.load_test_data import load_test_data\n",
    "\n",
    "tests = load_test_data(\"../tests/data/tests.json\")"
   ],
   "id": "400231988b5b5dc",
   "outputs": [],
   "execution_count": null
  },
  {
   "metadata": {},
   "cell_type": "code",
   "source": "# eval_pipeline.evaluate(tests)",
   "id": "c660ec934e9c7491",
   "outputs": [],
   "execution_count": null
  },
  {
   "metadata": {},
   "cell_type": "code",
   "source": "",
   "id": "1378fcbf61110a47",
   "outputs": [],
   "execution_count": null
  },
  {
   "metadata": {},
   "cell_type": "code",
   "source": "",
   "id": "64fa1779965f61c6",
   "outputs": [],
   "execution_count": null
  },
  {
   "metadata": {},
   "cell_type": "code",
   "source": "",
   "id": "642cc81260fdb9b8",
   "outputs": [],
   "execution_count": null
  },
  {
   "metadata": {},
   "cell_type": "code",
   "source": [
    "some_q_a_test = tests.question_answering[51]\n",
    "\n",
    "some_q_a_test"
   ],
   "id": "53942305d82dfeb0",
   "outputs": [],
   "execution_count": null
  },
  {
   "metadata": {},
   "cell_type": "code",
   "source": [
    "RES = eval_pipeline.evaluate_individual_tests([some_q_a_test])\n",
    "\n",
    "RES"
   ],
   "id": "78e4b4a7de18ee6b",
   "outputs": [],
   "execution_count": null
  },
  {
   "metadata": {},
   "cell_type": "code",
   "source": "",
   "id": "7f3d1a2e72d1be67",
   "outputs": [],
   "execution_count": null
  },
  {
   "metadata": {},
   "cell_type": "code",
   "source": "RES[0].pretty_print()",
   "id": "e8d123ed9068f0d6",
   "outputs": [],
   "execution_count": null
  },
  {
   "metadata": {},
   "cell_type": "code",
   "source": "",
   "id": "4002e6a875d5e4d9",
   "outputs": [],
   "execution_count": null
  },
  {
   "metadata": {},
   "cell_type": "code",
   "source": "",
   "id": "49dd9c498ba3435a",
   "outputs": [],
   "execution_count": null
  },
  {
   "metadata": {},
   "cell_type": "code",
   "source": "",
   "id": "aee9537051a8040f",
   "outputs": [],
   "execution_count": null
  },
  {
   "metadata": {},
   "cell_type": "code",
   "source": "",
   "id": "eafd386a663e7626",
   "outputs": [],
   "execution_count": null
  },
  {
   "metadata": {},
   "cell_type": "code",
   "source": "",
   "id": "cf909987d50fd680",
   "outputs": [],
   "execution_count": null
  },
  {
   "metadata": {},
   "cell_type": "code",
   "source": "",
   "id": "1b9c5c6880d98e0f",
   "outputs": [],
   "execution_count": null
  },
  {
   "metadata": {},
   "cell_type": "code",
   "source": "",
   "id": "c16b908fe6b25e3e",
   "outputs": [],
   "execution_count": null
  },
  {
   "metadata": {},
   "cell_type": "code",
   "source": "",
   "id": "661110a279a9bc57",
   "outputs": [],
   "execution_count": null
  },
  {
   "metadata": {},
   "cell_type": "code",
   "source": "",
   "id": "5d52f4eed969e218",
   "outputs": [],
   "execution_count": null
  },
  {
   "metadata": {},
   "cell_type": "code",
   "source": "",
   "id": "fbf1e61d3a90ba00",
   "outputs": [],
   "execution_count": null
  }
 ],
 "metadata": {
  "kernelspec": {
   "display_name": "Python 3",
   "language": "python",
   "name": "python3"
  },
  "language_info": {
   "codemirror_mode": {
    "name": "ipython",
    "version": 2
   },
   "file_extension": ".py",
   "mimetype": "text/x-python",
   "name": "python",
   "nbconvert_exporter": "python",
   "pygments_lexer": "ipython2",
   "version": "2.7.6"
  }
 },
 "nbformat": 4,
 "nbformat_minor": 5
}
