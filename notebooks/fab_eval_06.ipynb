{
 "cells": [
  {
   "cell_type": "code",
   "execution_count": null,
   "id": "4431377678f2c5af",
   "metadata": {},
   "outputs": [],
   "source": [
    "import sys\n",
    "import os\n",
    "from dotenv import load_dotenv\n",
    "\n",
    "# must happen before other imports!\n",
    "sys.path.append(os.path.abspath(\"../\"))\n",
    "load_dotenv(\"../.env\")\n",
    "load_dotenv(\"../.env.db\")"
   ]
  },
  {
   "cell_type": "code",
   "execution_count": null,
   "id": "3969b0d0fc12d55b",
   "metadata": {},
   "outputs": [],
   "source": [
    "# also should happen before other imports.\n",
    "import logging\n",
    "\n",
    "logging.basicConfig(level=logging.INFO)"
   ]
  },
  {
   "cell_type": "code",
   "execution_count": null,
   "id": "93b07f47693bcd4a",
   "metadata": {},
   "outputs": [],
   "source": [
    "from zoneinfo import ZoneInfo\n",
    "from datetime import datetime\n",
    "from src.backend.modules.search.llama_index import LlamaIndexExecutor\n",
    "from src.backend.modules.ai_assistant.llm_interactor.llm_interactor_test import LLMInteractorTest\n",
    "from src.backend.modules.asr.local_whisper_asr import LocalWhisperASR\n",
    "from src.backend.modules.evaluation.run_tests.evaluation_pipeline import EvaluationPipeline\n",
    "from src.backend.modules.llm.lm_studio_llm import LMStudioLLM\n",
    "from src.backend.modules.srs.testsrs.testsrs import TestFlashcardManager"
   ]
  },
  {
   "cell_type": "code",
   "execution_count": null,
   "id": "f8ba3eccc9dbd17e",
   "metadata": {},
   "outputs": [],
   "source": []
  },
  {
   "cell_type": "code",
   "execution_count": null,
   "id": "initial_id",
   "metadata": {},
   "outputs": [],
   "source": [
    "# define llms\n",
    "task_llm = LMStudioLLM(model=\"Meta-Llama-3.1-8B-Instruct\", default_temperature=0.8, default_max_tokens=2048)\n",
    "comparison_llm = LMStudioLLM(model=\"Meta-Llama-3.1-8B-Instruct\", default_temperature=0.0, default_max_tokens=50)\n",
    "now = datetime.now(ZoneInfo(\"Europe/Berlin\")).strftime(\"%Y-%m-%d %H:%M:%S %z\")\n",
    "\n",
    "eval_pipeline = EvaluationPipeline(\n",
    "    asr=LocalWhisperASR(\"openai/whisper-medium\"),\n",
    "    llm_interactor=LLMInteractorTest(TestFlashcardManager(), comparison_llm, LlamaIndexExecutor()),\n",
    "    task_llm=task_llm,\n",
    "    fuzzy_matching_llm=comparison_llm,\n",
    "    llm_judge=comparison_llm,\n",
    "    audio_recording_dir_path=\"../data/recording_data/fabian\",\n",
    "    default_max_messages=15,\n",
    "    default_max_errors=4,\n",
    "    max_stream_messages_per_chunk=5,\n",
    "    max_stream_errors_per_chunk=3,\n",
    "    verbose_task_execution=True,\n",
    "    print_progress=True,\n",
    "    log_file_path=f\"../data/logs/{now} evaluation_log.json\",\n",
    ")"
   ]
  },
  {
   "cell_type": "code",
   "execution_count": null,
   "id": "400231988b5b5dc",
   "metadata": {},
   "outputs": [],
   "source": [
    "from src.backend.modules.evaluation.load_test_data.load_test_data import load_test_data\n",
    "\n",
    "tests = load_test_data(\"../tests/data/tests.json\")"
   ]
  },
  {
   "cell_type": "code",
   "execution_count": null,
   "id": "c660ec934e9c7491",
   "metadata": {},
   "outputs": [],
   "source": [
    "# eval_pipeline.evaluate(tests)"
   ]
  },
  {
   "cell_type": "code",
   "execution_count": null,
   "id": "1378fcbf61110a47",
   "metadata": {},
   "outputs": [],
   "source": []
  },
  {
   "cell_type": "code",
   "execution_count": null,
   "id": "64fa1779965f61c6",
   "metadata": {},
   "outputs": [],
   "source": []
  },
  {
   "cell_type": "code",
   "execution_count": null,
   "id": "642cc81260fdb9b8",
   "metadata": {},
   "outputs": [],
   "source": []
  },
  {
   "cell_type": "code",
   "execution_count": null,
   "id": "53942305d82dfeb0",
   "metadata": {},
   "outputs": [],
   "source": [
    "some_q_a_test = tests.question_answering[51]\n",
    "\n",
    "some_q_a_test"
   ]
  },
  {
   "cell_type": "code",
   "execution_count": null,
   "id": "78e4b4a7de18ee6b",
   "metadata": {},
   "outputs": [],
   "source": [
    "RES = eval_pipeline.evaluate_individual_tests([some_q_a_test])\n",
    "\n",
    "RES"
   ]
  },
  {
   "cell_type": "code",
   "execution_count": null,
   "id": "7f3d1a2e72d1be67",
   "metadata": {},
   "outputs": [],
   "source": []
  },
  {
   "cell_type": "code",
   "execution_count": null,
   "id": "e8d123ed9068f0d6",
   "metadata": {},
   "outputs": [],
   "source": [
    "RES[0].pretty_print()"
   ]
  },
  {
   "cell_type": "code",
   "execution_count": null,
   "id": "4002e6a875d5e4d9",
   "metadata": {},
   "outputs": [],
   "source": []
  },
  {
   "cell_type": "code",
   "execution_count": null,
   "id": "49dd9c498ba3435a",
   "metadata": {},
   "outputs": [],
   "source": []
  },
  {
   "cell_type": "code",
   "execution_count": null,
   "id": "aee9537051a8040f",
   "metadata": {},
   "outputs": [],
   "source": []
  },
  {
   "cell_type": "code",
   "execution_count": null,
   "id": "eafd386a663e7626",
   "metadata": {},
   "outputs": [],
   "source": []
  },
  {
   "cell_type": "code",
   "execution_count": null,
   "id": "cf909987d50fd680",
   "metadata": {},
   "outputs": [],
   "source": []
  },
  {
   "cell_type": "code",
   "execution_count": null,
   "id": "1b9c5c6880d98e0f",
   "metadata": {},
   "outputs": [],
   "source": []
  },
  {
   "cell_type": "code",
   "execution_count": null,
   "id": "c16b908fe6b25e3e",
   "metadata": {},
   "outputs": [],
   "source": []
  },
  {
   "cell_type": "code",
   "execution_count": null,
   "id": "661110a279a9bc57",
   "metadata": {},
   "outputs": [],
   "source": []
  },
  {
   "cell_type": "code",
   "execution_count": null,
   "id": "5d52f4eed969e218",
   "metadata": {},
   "outputs": [],
   "source": []
  },
  {
   "cell_type": "code",
   "execution_count": null,
   "id": "fbf1e61d3a90ba00",
   "metadata": {},
   "outputs": [],
   "source": []
  }
 ],
 "metadata": {
  "kernelspec": {
   "display_name": "Python 3",
   "language": "python",
   "name": "python3"
  },
  "language_info": {
   "codemirror_mode": {
    "name": "ipython",
    "version": 2
   },
   "file_extension": ".py",
   "mimetype": "text/x-python",
   "name": "python",
   "nbconvert_exporter": "python",
   "pygments_lexer": "ipython2",
   "version": "2.7.6"
  }
 },
 "nbformat": 4,
 "nbformat_minor": 5
}
