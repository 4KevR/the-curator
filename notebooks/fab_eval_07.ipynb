{
 "cells": [
  {
   "cell_type": "code",
   "execution_count": 1,
   "id": "4431377678f2c5af",
   "metadata": {
    "ExecuteTime": {
     "end_time": "2025-06-15T04:26:52.097911Z",
     "start_time": "2025-06-15T04:26:52.089959Z"
    }
   },
   "outputs": [
    {
     "data": {
      "text/plain": [
       "True"
      ]
     },
     "execution_count": 1,
     "metadata": {},
     "output_type": "execute_result"
    }
   ],
   "source": [
    "import sys\n",
    "import os\n",
    "from dotenv import load_dotenv\n",
    "\n",
    "# must happen before other imports!\n",
    "sys.path.append(os.path.abspath(\"../\"))\n",
    "load_dotenv(\"../.env\")\n",
    "load_dotenv(\"../.env.db\")"
   ]
  },
  {
   "cell_type": "code",
   "execution_count": 2,
   "id": "3969b0d0fc12d55b",
   "metadata": {
    "ExecuteTime": {
     "end_time": "2025-06-15T04:26:52.252982Z",
     "start_time": "2025-06-15T04:26:52.250986Z"
    }
   },
   "outputs": [],
   "source": [
    "# also should happen before other imports.\n",
    "import logging\n",
    "\n",
    "logging.basicConfig(level=logging.INFO)"
   ]
  },
  {
   "cell_type": "code",
   "execution_count": 3,
   "id": "93b07f47693bcd4a",
   "metadata": {
    "ExecuteTime": {
     "end_time": "2025-06-15T04:26:52.299273Z",
     "start_time": "2025-06-15T04:26:52.296779Z"
    }
   },
   "outputs": [],
   "source": [
    "from zoneinfo import ZoneInfo\n",
    "from datetime import datetime"
   ]
  },
  {
   "cell_type": "code",
   "execution_count": null,
   "id": "f8ba3eccc9dbd17e",
   "metadata": {
    "ExecuteTime": {
     "end_time": "2025-06-15T04:26:52.347806Z",
     "start_time": "2025-06-15T04:26:52.345652Z"
    }
   },
   "outputs": [],
   "source": []
  },
  {
   "cell_type": "code",
   "execution_count": null,
   "id": "initial_id",
   "metadata": {
    "ExecuteTime": {
     "end_time": "2025-06-15T04:27:06.749536Z",
     "start_time": "2025-06-15T04:26:52.391736Z"
    }
   },
   "outputs": [
    {
     "name": "stderr",
     "output_type": "stream",
     "text": [
      "/home/fab/Dokumente/Schule/Universität/12. Semester inkl Ilias/Info LLM Praktikum/the-curator/.venv1/lib/python3.12/site-packages/tqdm/auto.py:21: TqdmWarning: IProgress not found. Please update jupyter and ipywidgets. See https://ipywidgets.readthedocs.io/en/stable/user_install.html\n",
      "  from .autonotebook import tqdm as notebook_tqdm\n",
      "2025-06-15 06:26:55.550432: E external/local_xla/xla/stream_executor/cuda/cuda_fft.cc:467] Unable to register cuFFT factory: Attempting to register factory for plugin cuFFT when one has already been registered\n",
      "WARNING: All log messages before absl::InitializeLog() is called are written to STDERR\n",
      "E0000 00:00:1749961615.567014  290762 cuda_dnn.cc:8579] Unable to register cuDNN factory: Attempting to register factory for plugin cuDNN when one has already been registered\n",
      "E0000 00:00:1749961615.572475  290762 cuda_blas.cc:1407] Unable to register cuBLAS factory: Attempting to register factory for plugin cuBLAS when one has already been registered\n",
      "W0000 00:00:1749961615.586278  290762 computation_placer.cc:177] computation placer already registered. Please check linkage and avoid linking the same target more than once.\n",
      "W0000 00:00:1749961615.586294  290762 computation_placer.cc:177] computation placer already registered. Please check linkage and avoid linking the same target more than once.\n",
      "W0000 00:00:1749961615.586296  290762 computation_placer.cc:177] computation placer already registered. Please check linkage and avoid linking the same target more than once.\n",
      "W0000 00:00:1749961615.586297  290762 computation_placer.cc:177] computation placer already registered. Please check linkage and avoid linking the same target more than once.\n",
      "2025-06-15 06:26:55.590466: I tensorflow/core/platform/cpu_feature_guard.cc:210] This TensorFlow binary is optimized to use available CPU instructions in performance-critical operations.\n",
      "To enable the following instructions: AVX2 FMA, in other operations, rebuild TensorFlow with the appropriate compiler flags.\n",
      "INFO:sentence_transformers.SentenceTransformer:Load pretrained SentenceTransformer: BAAI/bge-large-en-v1.5\n",
      "INFO:sentence_transformers.SentenceTransformer:2 prompts are loaded, with the keys: ['query', 'text']\n",
      "INFO:src.backend.modules.asr.local_whisper_asr:Using device cuda:0.\n",
      "Device set to use cuda:0\n"
     ]
    }
   ],
   "source": [
    "from src.backend.modules.asr.local_whisper_asr import LocalWhisperASR\n",
    "from src.backend.modules.evaluation.run_tests.evaluation_pipeline import EvaluationPipeline\n",
    "from src.backend.modules.llm.lm_studio_llm import LMStudioLLM\n",
    "\n",
    "# define llms\n",
    "task_llm = LMStudioLLM(model=\"Meta-Llama-3.1-8B-Instruct\", default_temperature=0.05, default_max_tokens=2048)\n",
    "comparison_llm = LMStudioLLM(model=\"Meta-Llama-3.1-8B-Instruct\", default_temperature=0.0, default_max_tokens=50)\n",
    "now = datetime.now(ZoneInfo(\"Europe/Berlin\")).strftime(\"%Y-%m-%d %H:%M:%S %z\")\n",
    "\n",
    "eval_pipeline = EvaluationPipeline(\n",
    "    asr=LocalWhisperASR(\"openai/whisper-medium\"),\n",
    "    task_llm=task_llm,\n",
    "    fuzzy_matching_llm=comparison_llm,\n",
    "    llm_judge=comparison_llm,\n",
    "    audio_recording_dir_path=\"../data/recording_data/fabian\",\n",
    "    verbose_task_execution=True,\n",
    "    print_progress=True,\n",
    "    log_file_path=f\"../data/logs/{now} evaluation_log.json\",\n",
    ")"
   ]
  },
  {
   "cell_type": "code",
   "execution_count": 5,
   "id": "400231988b5b5dc",
   "metadata": {
    "ExecuteTime": {
     "end_time": "2025-06-15T04:27:07.794893Z",
     "start_time": "2025-06-15T04:27:06.761082Z"
    }
   },
   "outputs": [],
   "source": [
    "from src.backend.modules.evaluation.load_test_data.load_test_data import load_test_data\n",
    "\n",
    "tests = load_test_data(\"../tests/data/tests.json\")"
   ]
  },
  {
   "cell_type": "markdown",
   "id": "6e3814ff5459e7b0",
   "metadata": {},
   "source": [
    "# Question Answering"
   ]
  },
  {
   "cell_type": "code",
   "execution_count": 6,
   "id": "c660ec934e9c7491",
   "metadata": {
    "ExecuteTime": {
     "end_time": "2025-06-15T04:06:45.619414Z",
     "start_time": "2025-06-15T04:06:45.617477Z"
    }
   },
   "outputs": [],
   "source": [
    "# eval_pipeline.evaluate(tests)"
   ]
  },
  {
   "cell_type": "code",
   "execution_count": null,
   "id": "1378fcbf61110a47",
   "metadata": {
    "ExecuteTime": {
     "end_time": "2025-06-15T04:06:45.668329Z",
     "start_time": "2025-06-15T04:06:45.666578Z"
    }
   },
   "outputs": [],
   "source": []
  },
  {
   "cell_type": "code",
   "execution_count": null,
   "id": "64fa1779965f61c6",
   "metadata": {
    "ExecuteTime": {
     "end_time": "2025-06-15T04:06:45.718704Z",
     "start_time": "2025-06-15T04:06:45.716874Z"
    }
   },
   "outputs": [],
   "source": []
  },
  {
   "cell_type": "code",
   "execution_count": null,
   "id": "642cc81260fdb9b8",
   "metadata": {
    "ExecuteTime": {
     "end_time": "2025-06-15T04:06:45.767590Z",
     "start_time": "2025-06-15T04:06:45.766051Z"
    }
   },
   "outputs": [],
   "source": []
  },
  {
   "cell_type": "code",
   "execution_count": 7,
   "id": "53942305d82dfeb0",
   "metadata": {
    "ExecuteTime": {
     "end_time": "2025-06-15T04:06:45.820285Z",
     "start_time": "2025-06-15T04:06:45.816655Z"
    }
   },
   "outputs": [
    {
     "data": {
      "text/plain": [
       "QuestionAnsweringTest(name='java_26', category='java', description='', environment=<src.backend.modules.srs.testsrs.testsrs.TestFlashcardManager object at 0x7e036eab6cc0>, queries=['What are the primary mechanisms for handling and managing exceptions in Java?'], expected_answer='Use try/catch blocks, possibly a finally block, or rethrow them.', sound_file_names=['java_26_0'])"
      ]
     },
     "execution_count": 7,
     "metadata": {},
     "output_type": "execute_result"
    }
   ],
   "source": [
    "some_q_a_test = tests.question_answering[51]\n",
    "\n",
    "some_q_a_test"
   ]
  },
  {
   "cell_type": "code",
   "execution_count": 8,
   "id": "3e6ac3a25aa5bc85",
   "metadata": {
    "ExecuteTime": {
     "end_time": "2025-06-15T04:06:45.873308Z",
     "start_time": "2025-06-15T04:06:45.869815Z"
    }
   },
   "outputs": [],
   "source": [
    "import pandas as pd\n",
    "\n",
    "q_a_tests_sample = pd.Series(tests.question_answering).sample(n=30, random_state=2308421)"
   ]
  },
  {
   "cell_type": "code",
   "execution_count": null,
   "id": "78e4b4a7de18ee6b",
   "metadata": {},
   "outputs": [],
   "source": [
    "Q_RES = eval_pipeline.evaluate_individual_tests(q_a_tests_sample.to_list())\n",
    "\n",
    "Q_RES"
   ]
  },
  {
   "cell_type": "code",
   "execution_count": null,
   "id": "7f3d1a2e72d1be67",
   "metadata": {
    "ExecuteTime": {
     "end_time": "2025-06-15T04:09:51.411566Z",
     "start_time": "2025-06-15T04:09:51.409853Z"
    }
   },
   "outputs": [],
   "source": []
  },
  {
   "cell_type": "code",
   "execution_count": null,
   "id": "e8d123ed9068f0d6",
   "metadata": {
    "ExecuteTime": {
     "end_time": "2025-06-15T04:09:51.599883Z",
     "start_time": "2025-06-15T04:09:51.597957Z"
    }
   },
   "outputs": [],
   "source": []
  },
  {
   "cell_type": "code",
   "execution_count": 13,
   "id": "4002e6a875d5e4d9",
   "metadata": {
    "ExecuteTime": {
     "end_time": "2025-06-15T04:09:51.764093Z",
     "start_time": "2025-06-15T04:09:51.758580Z"
    }
   },
   "outputs": [
    {
     "data": {
      "text/plain": [
       "False    30\n",
       "Name: count, dtype: int64"
      ]
     },
     "execution_count": 13,
     "metadata": {},
     "output_type": "execute_result"
    }
   ],
   "source": [
    "pd.Series([r.crashed for r in Q_RES]).value_counts()"
   ]
  },
  {
   "cell_type": "code",
   "execution_count": 14,
   "id": "49dd9c498ba3435a",
   "metadata": {
    "ExecuteTime": {
     "end_time": "2025-06-15T04:09:53.796937Z",
     "start_time": "2025-06-15T04:09:53.791380Z"
    }
   },
   "outputs": [
    {
     "data": {
      "text/plain": [
       "True     28\n",
       "False     2\n",
       "Name: count, dtype: int64"
      ]
     },
     "execution_count": 14,
     "metadata": {},
     "output_type": "execute_result"
    }
   ],
   "source": [
    "pd.Series([r.passed for r in Q_RES]).value_counts()"
   ]
  },
  {
   "cell_type": "code",
   "execution_count": 15,
   "id": "1ed156d131fe855",
   "metadata": {
    "ExecuteTime": {
     "end_time": "2025-06-15T04:09:56.203226Z",
     "start_time": "2025-06-15T04:09:56.200785Z"
    }
   },
   "outputs": [],
   "source": [
    "failed = [r for r in Q_RES if not r.passed]"
   ]
  },
  {
   "cell_type": "code",
   "execution_count": null,
   "id": "96009fc3600997ff",
   "metadata": {
    "ExecuteTime": {
     "end_time": "2025-06-15T04:09:57.533761Z",
     "start_time": "2025-06-15T04:09:57.531592Z"
    }
   },
   "outputs": [],
   "source": []
  },
  {
   "cell_type": "code",
   "execution_count": 18,
   "id": "af14ac84b8137e12",
   "metadata": {
    "ExecuteTime": {
     "end_time": "2025-06-15T04:10:12.418662Z",
     "start_time": "2025-06-15T04:10:12.416273Z"
    }
   },
   "outputs": [
    {
     "name": "stdout",
     "output_type": "stream",
     "text": [
      "##############################################################################################\n",
      "Test java_30 FAILED. Audio file available: False\n",
      "\n",
      "####################################### Queries ##############################################\n",
      "Original:    What is the default value assigned to an uninitialized integer variable declared as a class field in Java?\n",
      "Transcribed: What is the default value assigned to an uninitialized integer variable declared as a class field in Java?\n",
      "\n",
      "\n",
      "####################################### Response #############################################\n",
      "Question Answer:\n",
      "The default value assigned to an uninitialized integer variable declared as a class field in Java is zero.\n",
      "\n",
      "\n",
      "####################################### History ##############################################\n",
      "None\n",
      "     -------------------------------------------------------------------------      \n",
      "<src.backend.modules.ai_assistant.action_states.StateQuestion object at 0x7e036e437ef0>\n",
      "     -------------------------------------------------------------------------      \n",
      "<src.backend.modules.ai_assistant.action_states.StateAnswer object at 0x7e03b4ad91c0>\n",
      "\n",
      "####################################### Logs #################################################\n",
      "=============================================================================================\n",
      "\n",
      "-------------------------------------              user -------------------------------------\n",
      "You are an assistant of a flashcard management system. You assist a user in either executing a task (creating/modifying/deleting cards/decks etc.) or in answering questions about the content of the flashcards. If the user asks you to find cards without stating a question that he wants answered, respond task.\n",
      "\n",
      "The user gave the following input:\n",
      "\n",
      "What is the default value assigned to an uninitialized integer variable declared as a class field in Java?\n",
      "\n",
      "If the user wants to execute a task, please answer \"task\". If the user wants to answer a question, answer \"question\". Do not answer anything else.\n",
      "\n",
      "\n",
      "=============================================================================================\n",
      "\n",
      "-------------------------------------              user -------------------------------------\n",
      "You are an assistant of a flashcard management system. You assist the user in answering questions about the content of the flashcards in the system. The user asked the following question:\n",
      "What is the default value assigned to an uninitialized integer variable declared as a class field in Java?\n",
      "The following cards in the system fit the question:\n",
      "Q: What is the default value for an uninitialized int in a class field?\n",
      "A: Zero, for numeric types.\n",
      "Q: How do you declare a variable in Java?\n",
      "A: Specify type, then variable name, e.g. int x;\n",
      "**Using only the information in the cards above, answer the question.**\n",
      "If the question cannot be answered using the cards above, respond accordingly.Answer with a single, short sentence, without any additional information.\n",
      "\n",
      "\n",
      "\n",
      "####################################### Errors ###############################################\n",
      "\tLLM judge thought that answer was not close enough.\n",
      "Expected: Zero\n",
      "Actual: The default value assigned to an uninitialized integer variable declared as a class field in Java is zero.\n",
      "\n",
      "##############################################################################################\n",
      "\n"
     ]
    }
   ],
   "source": [
    "failed[0].pretty_print()"
   ]
  },
  {
   "cell_type": "code",
   "execution_count": null,
   "id": "6c3b280ab03fc43d",
   "metadata": {},
   "outputs": [],
   "source": []
  },
  {
   "cell_type": "code",
   "execution_count": null,
   "id": "94eb161104b84532",
   "metadata": {},
   "outputs": [],
   "source": []
  },
  {
   "cell_type": "code",
   "execution_count": null,
   "id": "628ead3e81d2fccb",
   "metadata": {},
   "outputs": [],
   "source": []
  },
  {
   "cell_type": "code",
   "execution_count": null,
   "id": "c827243992900800",
   "metadata": {},
   "outputs": [],
   "source": []
  },
  {
   "cell_type": "code",
   "execution_count": null,
   "id": "ed81a6ecdfaed9aa",
   "metadata": {},
   "outputs": [],
   "source": []
  },
  {
   "cell_type": "code",
   "execution_count": null,
   "id": "82596d5603aac72b",
   "metadata": {},
   "outputs": [],
   "source": []
  },
  {
   "cell_type": "code",
   "execution_count": null,
   "id": "2e05b9a16225c444",
   "metadata": {},
   "outputs": [],
   "source": []
  },
  {
   "cell_type": "code",
   "execution_count": null,
   "id": "d98a29fb76e86510",
   "metadata": {},
   "outputs": [],
   "source": []
  },
  {
   "cell_type": "code",
   "execution_count": null,
   "id": "28a10ae71f352aa2",
   "metadata": {},
   "outputs": [],
   "source": []
  },
  {
   "cell_type": "code",
   "execution_count": null,
   "id": "470a9c7a55cfb3de",
   "metadata": {},
   "outputs": [],
   "source": []
  },
  {
   "cell_type": "code",
   "execution_count": null,
   "id": "aee9537051a8040f",
   "metadata": {},
   "outputs": [],
   "source": []
  },
  {
   "cell_type": "code",
   "execution_count": null,
   "id": "eafd386a663e7626",
   "metadata": {},
   "outputs": [],
   "source": [
    "RES_CRASHED = [r for r in Q_RES if r.crashed]\n",
    "len(RES_CRASHED)"
   ]
  },
  {
   "cell_type": "code",
   "execution_count": null,
   "id": "cf909987d50fd680",
   "metadata": {},
   "outputs": [],
   "source": [
    "RES_CRASHED[3].pretty_print()"
   ]
  },
  {
   "cell_type": "markdown",
   "id": "bf158404509bff6c",
   "metadata": {},
   "source": [
    "# Interaction"
   ]
  },
  {
   "cell_type": "code",
   "execution_count": null,
   "id": "1b9c5c6880d98e0f",
   "metadata": {},
   "outputs": [],
   "source": []
  },
  {
   "cell_type": "code",
   "execution_count": 10,
   "id": "c16b908fe6b25e3e",
   "metadata": {
    "ExecuteTime": {
     "end_time": "2025-06-15T04:28:41.635914Z",
     "start_time": "2025-06-15T04:28:39.677392Z"
    }
   },
   "outputs": [
    {
     "name": "stdout",
     "output_type": "stream",
     "text": [
      "Total test 0 out of 1 (0.00%): <class 'src.backend.modules.evaluation.load_test_data.load_test_data.InteractionTest'> create_deck\n"
     ]
    },
    {
     "name": "stderr",
     "output_type": "stream",
     "text": [
      "/home/fab/Dokumente/Schule/Universität/12. Semester inkl Ilias/Info LLM Praktikum/the-curator/.venv1/lib/python3.12/site-packages/transformers/models/whisper/generation_whisper.py:573: FutureWarning: The input name `inputs` is deprecated. Please make sure to use `input_features` instead.\n",
      "  warnings.warn(\n",
      "INFO:httpx:HTTP Request: POST http://localhost:1234/v1/chat/completions \"HTTP/1.1 200 OK\"\n",
      "INFO:httpx:HTTP Request: POST http://localhost:1234/v1/chat/completions \"HTTP/1.1 200 OK\"\n"
     ]
    },
    {
     "name": "stdout",
     "output_type": "stream",
     "text": [
      "Current state: <src.backend.modules.ai_assistant.action_states.StateAction object at 0x7f7b5d6cc890>\n",
      "Current state: <src.backend.modules.ai_assistant.action_states.StateTask object at 0x7f7b5d705ee0>\n",
      "Current state: <src.backend.modules.ai_assistant.action_states.StateTaskNoSearch object at 0x7f7b5c85bc20>\n"
     ]
    },
    {
     "name": "stderr",
     "output_type": "stream",
     "text": [
      "INFO:httpx:HTTP Request: POST http://localhost:1234/v1/chat/completions \"HTTP/1.1 200 OK\"\n",
      "INFO:httpx:HTTP Request: POST http://localhost:1234/v1/chat/completions \"HTTP/1.1 200 OK\"\n",
      "INFO:httpx:HTTP Request: POST http://localhost:1234/v1/chat/completions \"HTTP/1.1 200 OK\"\n",
      "INFO:httpx:HTTP Request: POST http://localhost:1234/v1/chat/completions \"HTTP/1.1 200 OK\"\n",
      "INFO:httpx:HTTP Request: POST http://localhost:1234/v1/chat/completions \"HTTP/1.1 200 OK\"\n",
      "INFO:httpx:HTTP Request: POST http://localhost:1234/v1/chat/completions \"HTTP/1.1 200 OK\"\n",
      "INFO:httpx:HTTP Request: POST http://localhost:1234/v1/chat/completions \"HTTP/1.1 200 OK\"\n",
      "INFO:httpx:HTTP Request: POST http://localhost:1234/v1/chat/completions \"HTTP/1.1 200 OK\"\n"
     ]
    },
    {
     "name": "stdout",
     "output_type": "stream",
     "text": [
      "Current state: <src.backend.modules.ai_assistant.action_states.StateFinishedTask object at 0x7f7f79b063c0>\n"
     ]
    },
    {
     "data": {
      "text/plain": [
       "[TestEvalResult(passed=False, crashed=True, name='create_deck', audio_files_available=True, original_queries=['Go make new deck name Computer Vision.'], transcribed_queries=[' Go make a new deck named Computer Vision.'], question_answer=None, task_finish_message=None, state_history=['None', '<src.backend.modules.ai_assistant.action_states.StateTask object at 0x7f7b5d705ee0>', '<src.backend.modules.ai_assistant.action_states.StateTaskNoSearch object at 0x7f7b5c85bc20>', '<src.backend.modules.ai_assistant.action_states.StateFinishedTask object at 0x7f7f79b063c0>'], error_messages=['Exception raised: Can\\'t instantiate abstract class CloudLectureTranslatorASR without an implementation for abstract method \\'transcribe_wav_file\\'.\\n\\nStack trace:\\nTraceback (most recent call last):\\n  File \"/home/fab/Dokumente/Schule/Universität/12. Semester inkl Ilias/Info LLM Praktikum/the-curator/src/backend/modules/evaluation/run_tests/EvaluationPipeline.py\", line 174, in _evaluate_test\\n    comparator = SRSComparator(self.llm_for_fuzzy_matching, self.llm_judge)\\n                 ^^^^^^^^^^^^^^^^^^^^^^^^^^^^^^^^^^^^^^^^^^^^^^^^^^^^^^^^^^\\n  File \"/home/fab/Dokumente/Schule/Universität/12. Semester inkl Ilias/Info LLM Praktikum/the-curator/src/backend/modules/evaluation/run_tests/SRSComparator.py\", line 12, in __init__\\nTypeError: Can\\'t instantiate abstract class CloudLectureTranslatorASR without an implementation for abstract method \\'transcribe_wav_file\\'\\n\\n'], log_messages=[[('user', 'You are an assistant of a flashcard management system. You assist a user in either executing a task (creating/modifying/deleting cards/decks etc.) or in answering questions about the content of the flashcards. If the user asks you to find cards without stating a question that he wants answered, respond task.\\n\\nThe user gave the following input:\\n\\n Go make a new deck named Computer Vision.\\n\\nIf the user wants to execute a task, please answer \"task\". If the user wants to answer a question, answer \"question\". Do not answer anything else.'), ('assistant', 'task')], [('user', 'You are an assistant of a flashcard management system. You assist a user in executing tasks (creating/modifying/deleting cards/decks etc.).\\n\\nThe user gave the following input:\\n\\n Go make a new deck named Computer Vision.\\n\\nTo execute this prompt, do you have to **search for cards**? **Only** answer \"yes\" or \"no\", nothing else!'), ('assistant', 'no')], [('user', 'You are an assistant of a flashcard management system. You execute a task for a user.\\n\\nThe user gave the following task:\\n\\n Go make a new deck named Computer Vision.\\n\\nThe following decks currently exist:\\n\\n\\n\\nYou now have to call exactly one of the following functions:\\n\\n* create_deck: {\"task\": \"create_deck\", \"name\": \"<deck name here>\"}\\nCalling this function will create a new deck with the given name. If the deck already exists, you will receive \\nan error and can try again.\\n\\n* rename_deck: {\"task\": \"rename_deck\", \"old_name\": \"<old deck name here>\", \"new_name\": \"<new deck name here>\"}\\nCalling this function will rename the deck to the given name. If no deck exists with the old name, you will receive an \\nerror and can try again.\\n\\n* delete_deck: {\"task\": \"delete_deck\", \"name\": \"<deck name here>\"}\\nCalling this function will delete the deck with the given name. If no deck exists with the given name, you will receive an \\nerror and can try again.\\n\\n* add_card: {\"task\": \"add_card\", \"deck_name\": \"<deck name here>\", \"question\": \"<question here>\", \"answer\": \"<answer here>\", \"state\": \"<card state here>\", \"flag\": \"<flag here>\"}\\nCalling this function will add a new card to the deck with the given name. If no deck exists with the given name, you will receive an error and can try again.\\nValid flags are: [\\'none\\', \\'red\\', \\'orange\\', \\'green\\', \\'blue\\', \\'pink\\', \\'turquoise\\', \\'purple\\']\\nValid card states are: [\\'new\\', \\'learning\\', \\'review\\', \\'suspended\\', \\'buried\\']\\n\\n* exit: {\"task\": \"exit\"}\\nCall this function after you finished your task.\\n\\n* abort: {\"task\": \"abort\", \"reason\": \"<reason here>\"}\\nCall this function when you have to abort your task.\\n\\nPlease answer only with the filled-in, valid json.'), ('assistant', '{\"task\": \"create_deck\", \"name\": \"Computer Vision\"}')], [('user', 'You are an assistant of a flashcard management system. You execute a task for a user.\\n\\nThe user gave the following task:\\n\\n Go make a new deck named Computer Vision.\\n\\nThe following decks currently exist:\\n\\n\\n\\nYou now have to call exactly one of the following functions:\\n\\n* create_deck: {\"task\": \"create_deck\", \"name\": \"<deck name here>\"}\\nCalling this function will create a new deck with the given name. If the deck already exists, you will receive \\nan error and can try again.\\n\\n* rename_deck: {\"task\": \"rename_deck\", \"old_name\": \"<old deck name here>\", \"new_name\": \"<new deck name here>\"}\\nCalling this function will rename the deck to the given name. If no deck exists with the old name, you will receive an \\nerror and can try again.\\n\\n* delete_deck: {\"task\": \"delete_deck\", \"name\": \"<deck name here>\"}\\nCalling this function will delete the deck with the given name. If no deck exists with the given name, you will receive an \\nerror and can try again.\\n\\n* add_card: {\"task\": \"add_card\", \"deck_name\": \"<deck name here>\", \"question\": \"<question here>\", \"answer\": \"<answer here>\", \"state\": \"<card state here>\", \"flag\": \"<flag here>\"}\\nCalling this function will add a new card to the deck with the given name. If no deck exists with the given name, you will receive an error and can try again.\\nValid flags are: [\\'none\\', \\'red\\', \\'orange\\', \\'green\\', \\'blue\\', \\'pink\\', \\'turquoise\\', \\'purple\\']\\nValid card states are: [\\'new\\', \\'learning\\', \\'review\\', \\'suspended\\', \\'buried\\']\\n\\n* exit: {\"task\": \"exit\"}\\nCall this function after you finished your task.\\n\\n* abort: {\"task\": \"abort\", \"reason\": \"<reason here>\"}\\nCall this function when you have to abort your task.\\n\\nPlease answer only with the filled-in, valid json.'), ('assistant', '{\"task\": \"create_deck\", \"name\": \"Computer Vision\"}'), ('user', 'Your answer must be a valid json string. Exception: The SRS is frozen. No changes can be made.. Please try again.'), ('assistant', '{\"task\": \"create_deck\", \"name\": \"Computer Vision\"}')], [('user', 'You are an assistant of a flashcard management system. You execute a task for a user.\\n\\nThe user gave the following task:\\n\\n Go make a new deck named Computer Vision.\\n\\nThe following decks currently exist:\\n\\n\\n\\nYou now have to call exactly one of the following functions:\\n\\n* create_deck: {\"task\": \"create_deck\", \"name\": \"<deck name here>\"}\\nCalling this function will create a new deck with the given name. If the deck already exists, you will receive \\nan error and can try again.\\n\\n* rename_deck: {\"task\": \"rename_deck\", \"old_name\": \"<old deck name here>\", \"new_name\": \"<new deck name here>\"}\\nCalling this function will rename the deck to the given name. If no deck exists with the old name, you will receive an \\nerror and can try again.\\n\\n* delete_deck: {\"task\": \"delete_deck\", \"name\": \"<deck name here>\"}\\nCalling this function will delete the deck with the given name. If no deck exists with the given name, you will receive an \\nerror and can try again.\\n\\n* add_card: {\"task\": \"add_card\", \"deck_name\": \"<deck name here>\", \"question\": \"<question here>\", \"answer\": \"<answer here>\", \"state\": \"<card state here>\", \"flag\": \"<flag here>\"}\\nCalling this function will add a new card to the deck with the given name. If no deck exists with the given name, you will receive an error and can try again.\\nValid flags are: [\\'none\\', \\'red\\', \\'orange\\', \\'green\\', \\'blue\\', \\'pink\\', \\'turquoise\\', \\'purple\\']\\nValid card states are: [\\'new\\', \\'learning\\', \\'review\\', \\'suspended\\', \\'buried\\']\\n\\n* exit: {\"task\": \"exit\"}\\nCall this function after you finished your task.\\n\\n* abort: {\"task\": \"abort\", \"reason\": \"<reason here>\"}\\nCall this function when you have to abort your task.\\n\\nPlease answer only with the filled-in, valid json.'), ('assistant', '{\"task\": \"create_deck\", \"name\": \"Computer Vision\"}'), ('user', 'Your answer must be a valid json string. Exception: The SRS is frozen. No changes can be made.. Please try again.'), ('assistant', '{\"task\": \"create_deck\", \"name\": \"Computer Vision\"}'), ('user', 'Your answer must be a valid json string. Exception: The SRS is frozen. No changes can be made.. Please try again.'), ('assistant', '{\"task\": \"create_deck\", \"name\": \"Computer Vision\"}')], [('user', 'You are an assistant of a flashcard management system. You execute a task for a user.\\n\\nThe user gave the following task:\\n\\n Go make a new deck named Computer Vision.\\n\\nThe following decks currently exist:\\n\\n\\n\\nYou now have to call exactly one of the following functions:\\n\\n* create_deck: {\"task\": \"create_deck\", \"name\": \"<deck name here>\"}\\nCalling this function will create a new deck with the given name. If the deck already exists, you will receive \\nan error and can try again.\\n\\n* rename_deck: {\"task\": \"rename_deck\", \"old_name\": \"<old deck name here>\", \"new_name\": \"<new deck name here>\"}\\nCalling this function will rename the deck to the given name. If no deck exists with the old name, you will receive an \\nerror and can try again.\\n\\n* delete_deck: {\"task\": \"delete_deck\", \"name\": \"<deck name here>\"}\\nCalling this function will delete the deck with the given name. If no deck exists with the given name, you will receive an \\nerror and can try again.\\n\\n* add_card: {\"task\": \"add_card\", \"deck_name\": \"<deck name here>\", \"question\": \"<question here>\", \"answer\": \"<answer here>\", \"state\": \"<card state here>\", \"flag\": \"<flag here>\"}\\nCalling this function will add a new card to the deck with the given name. If no deck exists with the given name, you will receive an error and can try again.\\nValid flags are: [\\'none\\', \\'red\\', \\'orange\\', \\'green\\', \\'blue\\', \\'pink\\', \\'turquoise\\', \\'purple\\']\\nValid card states are: [\\'new\\', \\'learning\\', \\'review\\', \\'suspended\\', \\'buried\\']\\n\\n* exit: {\"task\": \"exit\"}\\nCall this function after you finished your task.\\n\\n* abort: {\"task\": \"abort\", \"reason\": \"<reason here>\"}\\nCall this function when you have to abort your task.\\n\\nPlease answer only with the filled-in, valid json.'), ('assistant', '{\"task\": \"create_deck\", \"name\": \"Computer Vision\"}'), ('user', 'Your answer must be a valid json string. Exception: The SRS is frozen. No changes can be made.. Please try again.'), ('assistant', '{\"task\": \"create_deck\", \"name\": \"Computer Vision\"}'), ('user', 'Your answer must be a valid json string. Exception: The SRS is frozen. No changes can be made.. Please try again.'), ('assistant', '{\"task\": \"create_deck\", \"name\": \"Computer Vision\"}'), ('user', 'Your answer must be a valid json string. Exception: The SRS is frozen. No changes can be made.. Please try again.'), ('assistant', '{\"task\": \"create_deck\", \"name\": \"Computer Vision\"}')], [('user', 'You are an assistant of a flashcard management system. You execute a task for a user.\\n\\nThe user gave the following task:\\n\\n Go make a new deck named Computer Vision.\\n\\nThe following decks currently exist:\\n\\n\\n\\nYou now have to call exactly one of the following functions:\\n\\n* create_deck: {\"task\": \"create_deck\", \"name\": \"<deck name here>\"}\\nCalling this function will create a new deck with the given name. If the deck already exists, you will receive \\nan error and can try again.\\n\\n* rename_deck: {\"task\": \"rename_deck\", \"old_name\": \"<old deck name here>\", \"new_name\": \"<new deck name here>\"}\\nCalling this function will rename the deck to the given name. If no deck exists with the old name, you will receive an \\nerror and can try again.\\n\\n* delete_deck: {\"task\": \"delete_deck\", \"name\": \"<deck name here>\"}\\nCalling this function will delete the deck with the given name. If no deck exists with the given name, you will receive an \\nerror and can try again.\\n\\n* add_card: {\"task\": \"add_card\", \"deck_name\": \"<deck name here>\", \"question\": \"<question here>\", \"answer\": \"<answer here>\", \"state\": \"<card state here>\", \"flag\": \"<flag here>\"}\\nCalling this function will add a new card to the deck with the given name. If no deck exists with the given name, you will receive an error and can try again.\\nValid flags are: [\\'none\\', \\'red\\', \\'orange\\', \\'green\\', \\'blue\\', \\'pink\\', \\'turquoise\\', \\'purple\\']\\nValid card states are: [\\'new\\', \\'learning\\', \\'review\\', \\'suspended\\', \\'buried\\']\\n\\n* exit: {\"task\": \"exit\"}\\nCall this function after you finished your task.\\n\\n* abort: {\"task\": \"abort\", \"reason\": \"<reason here>\"}\\nCall this function when you have to abort your task.\\n\\nPlease answer only with the filled-in, valid json.'), ('assistant', '{\"task\": \"create_deck\", \"name\": \"Computer Vision\"}'), ('user', 'Your answer must be a valid json string. Exception: The SRS is frozen. No changes can be made.. Please try again.'), ('assistant', '{\"task\": \"create_deck\", \"name\": \"Computer Vision\"}'), ('user', 'Your answer must be a valid json string. Exception: The SRS is frozen. No changes can be made.. Please try again.'), ('assistant', '{\"task\": \"create_deck\", \"name\": \"Computer Vision\"}'), ('user', 'Your answer must be a valid json string. Exception: The SRS is frozen. No changes can be made.. Please try again.'), ('assistant', '{\"task\": \"create_deck\", \"name\": \"Computer Vision\"}'), ('user', 'Your answer must be a valid json string. Exception: The SRS is frozen. No changes can be made.. Please try again.'), ('assistant', '{\"task\": \"create_deck\", \"name\": \"Computer Vision\"}')], [('user', 'You are an assistant of a flashcard management system. You execute a task for a user.\\n\\nThe user gave the following task:\\n\\n Go make a new deck named Computer Vision.\\n\\nThe following decks currently exist:\\n\\n\\n\\nYou now have to call exactly one of the following functions:\\n\\n* create_deck: {\"task\": \"create_deck\", \"name\": \"<deck name here>\"}\\nCalling this function will create a new deck with the given name. If the deck already exists, you will receive \\nan error and can try again.\\n\\n* rename_deck: {\"task\": \"rename_deck\", \"old_name\": \"<old deck name here>\", \"new_name\": \"<new deck name here>\"}\\nCalling this function will rename the deck to the given name. If no deck exists with the old name, you will receive an \\nerror and can try again.\\n\\n* delete_deck: {\"task\": \"delete_deck\", \"name\": \"<deck name here>\"}\\nCalling this function will delete the deck with the given name. If no deck exists with the given name, you will receive an \\nerror and can try again.\\n\\n* add_card: {\"task\": \"add_card\", \"deck_name\": \"<deck name here>\", \"question\": \"<question here>\", \"answer\": \"<answer here>\", \"state\": \"<card state here>\", \"flag\": \"<flag here>\"}\\nCalling this function will add a new card to the deck with the given name. If no deck exists with the given name, you will receive an error and can try again.\\nValid flags are: [\\'none\\', \\'red\\', \\'orange\\', \\'green\\', \\'blue\\', \\'pink\\', \\'turquoise\\', \\'purple\\']\\nValid card states are: [\\'new\\', \\'learning\\', \\'review\\', \\'suspended\\', \\'buried\\']\\n\\n* exit: {\"task\": \"exit\"}\\nCall this function after you finished your task.\\n\\n* abort: {\"task\": \"abort\", \"reason\": \"<reason here>\"}\\nCall this function when you have to abort your task.\\n\\nPlease answer only with the filled-in, valid json.'), ('assistant', '{\"task\": \"create_deck\", \"name\": \"Computer Vision\"}'), ('user', 'Your answer must be a valid json string. Exception: The SRS is frozen. No changes can be made.. Please try again.'), ('assistant', '{\"task\": \"create_deck\", \"name\": \"Computer Vision\"}'), ('user', 'Your answer must be a valid json string. Exception: The SRS is frozen. No changes can be made.. Please try again.'), ('assistant', '{\"task\": \"create_deck\", \"name\": \"Computer Vision\"}'), ('user', 'Your answer must be a valid json string. Exception: The SRS is frozen. No changes can be made.. Please try again.'), ('assistant', '{\"task\": \"create_deck\", \"name\": \"Computer Vision\"}'), ('user', 'Your answer must be a valid json string. Exception: The SRS is frozen. No changes can be made.. Please try again.'), ('assistant', '{\"task\": \"create_deck\", \"name\": \"Computer Vision\"}'), ('user', 'Your answer must be a valid json string. Exception: The SRS is frozen. No changes can be made.. Please try again.'), ('assistant', '{\"task\": \"create_deck\", \"name\": \"Computer Vision\"}')], [('user', 'You are an assistant of a flashcard management system. You execute a task for a user.\\n\\nThe user gave the following task:\\n\\n Go make a new deck named Computer Vision.\\n\\nThe following decks currently exist:\\n\\n\\n\\nYou now have to call exactly one of the following functions:\\n\\n* create_deck: {\"task\": \"create_deck\", \"name\": \"<deck name here>\"}\\nCalling this function will create a new deck with the given name. If the deck already exists, you will receive \\nan error and can try again.\\n\\n* rename_deck: {\"task\": \"rename_deck\", \"old_name\": \"<old deck name here>\", \"new_name\": \"<new deck name here>\"}\\nCalling this function will rename the deck to the given name. If no deck exists with the old name, you will receive an \\nerror and can try again.\\n\\n* delete_deck: {\"task\": \"delete_deck\", \"name\": \"<deck name here>\"}\\nCalling this function will delete the deck with the given name. If no deck exists with the given name, you will receive an \\nerror and can try again.\\n\\n* add_card: {\"task\": \"add_card\", \"deck_name\": \"<deck name here>\", \"question\": \"<question here>\", \"answer\": \"<answer here>\", \"state\": \"<card state here>\", \"flag\": \"<flag here>\"}\\nCalling this function will add a new card to the deck with the given name. If no deck exists with the given name, you will receive an error and can try again.\\nValid flags are: [\\'none\\', \\'red\\', \\'orange\\', \\'green\\', \\'blue\\', \\'pink\\', \\'turquoise\\', \\'purple\\']\\nValid card states are: [\\'new\\', \\'learning\\', \\'review\\', \\'suspended\\', \\'buried\\']\\n\\n* exit: {\"task\": \"exit\"}\\nCall this function after you finished your task.\\n\\n* abort: {\"task\": \"abort\", \"reason\": \"<reason here>\"}\\nCall this function when you have to abort your task.\\n\\nPlease answer only with the filled-in, valid json.'), ('assistant', '{\"task\": \"create_deck\", \"name\": \"Computer Vision\"}'), ('user', 'Your answer must be a valid json string. Exception: The SRS is frozen. No changes can be made.. Please try again.'), ('assistant', '{\"task\": \"create_deck\", \"name\": \"Computer Vision\"}'), ('user', 'Your answer must be a valid json string. Exception: The SRS is frozen. No changes can be made.. Please try again.'), ('assistant', '{\"task\": \"create_deck\", \"name\": \"Computer Vision\"}'), ('user', 'Your answer must be a valid json string. Exception: The SRS is frozen. No changes can be made.. Please try again.'), ('assistant', '{\"task\": \"create_deck\", \"name\": \"Computer Vision\"}'), ('user', 'Your answer must be a valid json string. Exception: The SRS is frozen. No changes can be made.. Please try again.'), ('assistant', '{\"task\": \"create_deck\", \"name\": \"Computer Vision\"}'), ('user', 'Your answer must be a valid json string. Exception: The SRS is frozen. No changes can be made.. Please try again.'), ('assistant', '{\"task\": \"create_deck\", \"name\": \"Computer Vision\"}'), ('user', 'Your answer must be a valid json string. Exception: The SRS is frozen. No changes can be made.. Please try again.'), ('assistant', '{\"task\": \"error\", \"message\": \"The SRS is frozen. No changes can be made.\"}')], [('user', 'You are an assistant of a flashcard management system. You execute a task for a user.\\n\\nThe user gave the following task:\\n\\n Go make a new deck named Computer Vision.\\n\\nThe following decks currently exist:\\n\\n\\n\\nYou now have to call exactly one of the following functions:\\n\\n* create_deck: {\"task\": \"create_deck\", \"name\": \"<deck name here>\"}\\nCalling this function will create a new deck with the given name. If the deck already exists, you will receive \\nan error and can try again.\\n\\n* rename_deck: {\"task\": \"rename_deck\", \"old_name\": \"<old deck name here>\", \"new_name\": \"<new deck name here>\"}\\nCalling this function will rename the deck to the given name. If no deck exists with the old name, you will receive an \\nerror and can try again.\\n\\n* delete_deck: {\"task\": \"delete_deck\", \"name\": \"<deck name here>\"}\\nCalling this function will delete the deck with the given name. If no deck exists with the given name, you will receive an \\nerror and can try again.\\n\\n* add_card: {\"task\": \"add_card\", \"deck_name\": \"<deck name here>\", \"question\": \"<question here>\", \"answer\": \"<answer here>\", \"state\": \"<card state here>\", \"flag\": \"<flag here>\"}\\nCalling this function will add a new card to the deck with the given name. If no deck exists with the given name, you will receive an error and can try again.\\nValid flags are: [\\'none\\', \\'red\\', \\'orange\\', \\'green\\', \\'blue\\', \\'pink\\', \\'turquoise\\', \\'purple\\']\\nValid card states are: [\\'new\\', \\'learning\\', \\'review\\', \\'suspended\\', \\'buried\\']\\n\\n* exit: {\"task\": \"exit\"}\\nCall this function after you finished your task.\\n\\n* abort: {\"task\": \"abort\", \"reason\": \"<reason here>\"}\\nCall this function when you have to abort your task.\\n\\nPlease answer only with the filled-in, valid json.'), ('assistant', '{\"task\": \"create_deck\", \"name\": \"Computer Vision\"}'), ('user', 'Your answer must be a valid json string. Exception: The SRS is frozen. No changes can be made.. Please try again.'), ('assistant', '{\"task\": \"create_deck\", \"name\": \"Computer Vision\"}'), ('user', 'Your answer must be a valid json string. Exception: The SRS is frozen. No changes can be made.. Please try again.'), ('assistant', '{\"task\": \"create_deck\", \"name\": \"Computer Vision\"}'), ('user', 'Your answer must be a valid json string. Exception: The SRS is frozen. No changes can be made.. Please try again.'), ('assistant', '{\"task\": \"create_deck\", \"name\": \"Computer Vision\"}'), ('user', 'Your answer must be a valid json string. Exception: The SRS is frozen. No changes can be made.. Please try again.'), ('assistant', '{\"task\": \"create_deck\", \"name\": \"Computer Vision\"}'), ('user', 'Your answer must be a valid json string. Exception: The SRS is frozen. No changes can be made.. Please try again.'), ('assistant', '{\"task\": \"create_deck\", \"name\": \"Computer Vision\"}'), ('user', 'Your answer must be a valid json string. Exception: The SRS is frozen. No changes can be made.. Please try again.'), ('assistant', '{\"task\": \"error\", \"message\": \"The SRS is frozen. No changes can be made.\"}'), ('user', 'Your answer must be a valid json string. Exception: Response must contain a valid task. Please try again.'), ('assistant', '{\"task\": \"exit\"}')]])]"
      ]
     },
     "execution_count": 10,
     "metadata": {},
     "output_type": "execute_result"
    }
   ],
   "source": [
    "import pandas as pd\n",
    "\n",
    "interaction_tests_sample = pd.Series(tests.interaction).sample(n=1, random_state=2308421)\n",
    "I_RES = eval_pipeline.evaluate_individual_tests(interaction_tests_sample.to_list())\n",
    "\n",
    "I_RES"
   ]
  },
  {
   "cell_type": "code",
   "execution_count": 11,
   "id": "661110a279a9bc57",
   "metadata": {
    "ExecuteTime": {
     "end_time": "2025-06-15T04:28:43.300886Z",
     "start_time": "2025-06-15T04:28:43.295665Z"
    }
   },
   "outputs": [
    {
     "data": {
      "text/plain": [
       "True    1\n",
       "Name: count, dtype: int64"
      ]
     },
     "execution_count": 11,
     "metadata": {},
     "output_type": "execute_result"
    }
   ],
   "source": [
    "pd.Series([r.crashed for r in I_RES]).value_counts()"
   ]
  },
  {
   "cell_type": "code",
   "execution_count": 12,
   "id": "5d52f4eed969e218",
   "metadata": {
    "ExecuteTime": {
     "end_time": "2025-06-15T04:28:44.028292Z",
     "start_time": "2025-06-15T04:28:44.024955Z"
    }
   },
   "outputs": [
    {
     "name": "stdout",
     "output_type": "stream",
     "text": [
      "##############################################################################################\n",
      "Test create_deck CRASHED. Audio file available: True\n",
      "\n",
      "####################################### Queries ##############################################\n",
      "Original:    Go make new deck name Computer Vision.\n",
      "Transcribed:  Go make a new deck named Computer Vision.\n",
      "\n",
      "\n",
      "####################################### Response #############################################\n",
      "\n",
      "\n",
      "####################################### History ##############################################\n",
      "None\n",
      "     -------------------------------------------------------------------------      \n",
      "<src.backend.modules.ai_assistant.action_states.StateTask object at 0x7f7b5d705ee0>\n",
      "     -------------------------------------------------------------------------      \n",
      "<src.backend.modules.ai_assistant.action_states.StateTaskNoSearch object at 0x7f7b5c85bc20>\n",
      "     -------------------------------------------------------------------------      \n",
      "<src.backend.modules.ai_assistant.action_states.StateFinishedTask object at 0x7f7f79b063c0>\n",
      "\n",
      "####################################### Logs #################################################\n",
      "=============================================================================================\n",
      "\n",
      "-------------------------------------              user -------------------------------------\n",
      "You are an assistant of a flashcard management system. You assist a user in either executing a task (creating/modifying/deleting cards/decks etc.) or in answering questions about the content of the flashcards. If the user asks you to find cards without stating a question that he wants answered, respond task.\n",
      "\n",
      "The user gave the following input:\n",
      "\n",
      " Go make a new deck named Computer Vision.\n",
      "\n",
      "If the user wants to execute a task, please answer \"task\". If the user wants to answer a question, answer \"question\". Do not answer anything else.\n",
      "\n",
      "\n",
      "-------------------------------------         assistant -------------------------------------\n",
      "task\n",
      "\n",
      "\n",
      "=============================================================================================\n",
      "\n",
      "-------------------------------------              user -------------------------------------\n",
      "You are an assistant of a flashcard management system. You assist a user in executing tasks (creating/modifying/deleting cards/decks etc.).\n",
      "\n",
      "The user gave the following input:\n",
      "\n",
      " Go make a new deck named Computer Vision.\n",
      "\n",
      "To execute this prompt, do you have to **search for cards**? **Only** answer \"yes\" or \"no\", nothing else!\n",
      "\n",
      "\n",
      "-------------------------------------         assistant -------------------------------------\n",
      "no\n",
      "\n",
      "\n",
      "=============================================================================================\n",
      "\n",
      "-------------------------------------              user -------------------------------------\n",
      "You are an assistant of a flashcard management system. You execute a task for a user.\n",
      "\n",
      "The user gave the following task:\n",
      "\n",
      " Go make a new deck named Computer Vision.\n",
      "\n",
      "The following decks currently exist:\n",
      "\n",
      "\n",
      "\n",
      "You now have to call exactly one of the following functions:\n",
      "\n",
      "* create_deck: {\"task\": \"create_deck\", \"name\": \"<deck name here>\"}\n",
      "Calling this function will create a new deck with the given name. If the deck already exists, you will receive \n",
      "an error and can try again.\n",
      "\n",
      "* rename_deck: {\"task\": \"rename_deck\", \"old_name\": \"<old deck name here>\", \"new_name\": \"<new deck name here>\"}\n",
      "Calling this function will rename the deck to the given name. If no deck exists with the old name, you will receive an \n",
      "error and can try again.\n",
      "\n",
      "* delete_deck: {\"task\": \"delete_deck\", \"name\": \"<deck name here>\"}\n",
      "Calling this function will delete the deck with the given name. If no deck exists with the given name, you will receive an \n",
      "error and can try again.\n",
      "\n",
      "* add_card: {\"task\": \"add_card\", \"deck_name\": \"<deck name here>\", \"question\": \"<question here>\", \"answer\": \"<answer here>\", \"state\": \"<card state here>\", \"flag\": \"<flag here>\"}\n",
      "Calling this function will add a new card to the deck with the given name. If no deck exists with the given name, you will receive an error and can try again.\n",
      "Valid flags are: ['none', 'red', 'orange', 'green', 'blue', 'pink', 'turquoise', 'purple']\n",
      "Valid card states are: ['new', 'learning', 'review', 'suspended', 'buried']\n",
      "\n",
      "* exit: {\"task\": \"exit\"}\n",
      "Call this function after you finished your task.\n",
      "\n",
      "* abort: {\"task\": \"abort\", \"reason\": \"<reason here>\"}\n",
      "Call this function when you have to abort your task.\n",
      "\n",
      "Please answer only with the filled-in, valid json.\n",
      "\n",
      "\n",
      "-------------------------------------         assistant -------------------------------------\n",
      "{\"task\": \"create_deck\", \"name\": \"Computer Vision\"}\n",
      "\n",
      "\n",
      "=============================================================================================\n",
      "\n",
      "-------------------------------------              user -------------------------------------\n",
      "You are an assistant of a flashcard management system. You execute a task for a user.\n",
      "\n",
      "The user gave the following task:\n",
      "\n",
      " Go make a new deck named Computer Vision.\n",
      "\n",
      "The following decks currently exist:\n",
      "\n",
      "\n",
      "\n",
      "You now have to call exactly one of the following functions:\n",
      "\n",
      "* create_deck: {\"task\": \"create_deck\", \"name\": \"<deck name here>\"}\n",
      "Calling this function will create a new deck with the given name. If the deck already exists, you will receive \n",
      "an error and can try again.\n",
      "\n",
      "* rename_deck: {\"task\": \"rename_deck\", \"old_name\": \"<old deck name here>\", \"new_name\": \"<new deck name here>\"}\n",
      "Calling this function will rename the deck to the given name. If no deck exists with the old name, you will receive an \n",
      "error and can try again.\n",
      "\n",
      "* delete_deck: {\"task\": \"delete_deck\", \"name\": \"<deck name here>\"}\n",
      "Calling this function will delete the deck with the given name. If no deck exists with the given name, you will receive an \n",
      "error and can try again.\n",
      "\n",
      "* add_card: {\"task\": \"add_card\", \"deck_name\": \"<deck name here>\", \"question\": \"<question here>\", \"answer\": \"<answer here>\", \"state\": \"<card state here>\", \"flag\": \"<flag here>\"}\n",
      "Calling this function will add a new card to the deck with the given name. If no deck exists with the given name, you will receive an error and can try again.\n",
      "Valid flags are: ['none', 'red', 'orange', 'green', 'blue', 'pink', 'turquoise', 'purple']\n",
      "Valid card states are: ['new', 'learning', 'review', 'suspended', 'buried']\n",
      "\n",
      "* exit: {\"task\": \"exit\"}\n",
      "Call this function after you finished your task.\n",
      "\n",
      "* abort: {\"task\": \"abort\", \"reason\": \"<reason here>\"}\n",
      "Call this function when you have to abort your task.\n",
      "\n",
      "Please answer only with the filled-in, valid json.\n",
      "\n",
      "\n",
      "-------------------------------------         assistant -------------------------------------\n",
      "{\"task\": \"create_deck\", \"name\": \"Computer Vision\"}\n",
      "\n",
      "\n",
      "-------------------------------------              user -------------------------------------\n",
      "Your answer must be a valid json string. Exception: The SRS is frozen. No changes can be made.. Please try again.\n",
      "\n",
      "\n",
      "-------------------------------------         assistant -------------------------------------\n",
      "{\"task\": \"create_deck\", \"name\": \"Computer Vision\"}\n",
      "\n",
      "\n",
      "=============================================================================================\n",
      "\n",
      "-------------------------------------              user -------------------------------------\n",
      "You are an assistant of a flashcard management system. You execute a task for a user.\n",
      "\n",
      "The user gave the following task:\n",
      "\n",
      " Go make a new deck named Computer Vision.\n",
      "\n",
      "The following decks currently exist:\n",
      "\n",
      "\n",
      "\n",
      "You now have to call exactly one of the following functions:\n",
      "\n",
      "* create_deck: {\"task\": \"create_deck\", \"name\": \"<deck name here>\"}\n",
      "Calling this function will create a new deck with the given name. If the deck already exists, you will receive \n",
      "an error and can try again.\n",
      "\n",
      "* rename_deck: {\"task\": \"rename_deck\", \"old_name\": \"<old deck name here>\", \"new_name\": \"<new deck name here>\"}\n",
      "Calling this function will rename the deck to the given name. If no deck exists with the old name, you will receive an \n",
      "error and can try again.\n",
      "\n",
      "* delete_deck: {\"task\": \"delete_deck\", \"name\": \"<deck name here>\"}\n",
      "Calling this function will delete the deck with the given name. If no deck exists with the given name, you will receive an \n",
      "error and can try again.\n",
      "\n",
      "* add_card: {\"task\": \"add_card\", \"deck_name\": \"<deck name here>\", \"question\": \"<question here>\", \"answer\": \"<answer here>\", \"state\": \"<card state here>\", \"flag\": \"<flag here>\"}\n",
      "Calling this function will add a new card to the deck with the given name. If no deck exists with the given name, you will receive an error and can try again.\n",
      "Valid flags are: ['none', 'red', 'orange', 'green', 'blue', 'pink', 'turquoise', 'purple']\n",
      "Valid card states are: ['new', 'learning', 'review', 'suspended', 'buried']\n",
      "\n",
      "* exit: {\"task\": \"exit\"}\n",
      "Call this function after you finished your task.\n",
      "\n",
      "* abort: {\"task\": \"abort\", \"reason\": \"<reason here>\"}\n",
      "Call this function when you have to abort your task.\n",
      "\n",
      "Please answer only with the filled-in, valid json.\n",
      "\n",
      "\n",
      "-------------------------------------         assistant -------------------------------------\n",
      "{\"task\": \"create_deck\", \"name\": \"Computer Vision\"}\n",
      "\n",
      "\n",
      "-------------------------------------              user -------------------------------------\n",
      "Your answer must be a valid json string. Exception: The SRS is frozen. No changes can be made.. Please try again.\n",
      "\n",
      "\n",
      "-------------------------------------         assistant -------------------------------------\n",
      "{\"task\": \"create_deck\", \"name\": \"Computer Vision\"}\n",
      "\n",
      "\n",
      "-------------------------------------              user -------------------------------------\n",
      "Your answer must be a valid json string. Exception: The SRS is frozen. No changes can be made.. Please try again.\n",
      "\n",
      "\n",
      "-------------------------------------         assistant -------------------------------------\n",
      "{\"task\": \"create_deck\", \"name\": \"Computer Vision\"}\n",
      "\n",
      "\n",
      "=============================================================================================\n",
      "\n",
      "-------------------------------------              user -------------------------------------\n",
      "You are an assistant of a flashcard management system. You execute a task for a user.\n",
      "\n",
      "The user gave the following task:\n",
      "\n",
      " Go make a new deck named Computer Vision.\n",
      "\n",
      "The following decks currently exist:\n",
      "\n",
      "\n",
      "\n",
      "You now have to call exactly one of the following functions:\n",
      "\n",
      "* create_deck: {\"task\": \"create_deck\", \"name\": \"<deck name here>\"}\n",
      "Calling this function will create a new deck with the given name. If the deck already exists, you will receive \n",
      "an error and can try again.\n",
      "\n",
      "* rename_deck: {\"task\": \"rename_deck\", \"old_name\": \"<old deck name here>\", \"new_name\": \"<new deck name here>\"}\n",
      "Calling this function will rename the deck to the given name. If no deck exists with the old name, you will receive an \n",
      "error and can try again.\n",
      "\n",
      "* delete_deck: {\"task\": \"delete_deck\", \"name\": \"<deck name here>\"}\n",
      "Calling this function will delete the deck with the given name. If no deck exists with the given name, you will receive an \n",
      "error and can try again.\n",
      "\n",
      "* add_card: {\"task\": \"add_card\", \"deck_name\": \"<deck name here>\", \"question\": \"<question here>\", \"answer\": \"<answer here>\", \"state\": \"<card state here>\", \"flag\": \"<flag here>\"}\n",
      "Calling this function will add a new card to the deck with the given name. If no deck exists with the given name, you will receive an error and can try again.\n",
      "Valid flags are: ['none', 'red', 'orange', 'green', 'blue', 'pink', 'turquoise', 'purple']\n",
      "Valid card states are: ['new', 'learning', 'review', 'suspended', 'buried']\n",
      "\n",
      "* exit: {\"task\": \"exit\"}\n",
      "Call this function after you finished your task.\n",
      "\n",
      "* abort: {\"task\": \"abort\", \"reason\": \"<reason here>\"}\n",
      "Call this function when you have to abort your task.\n",
      "\n",
      "Please answer only with the filled-in, valid json.\n",
      "\n",
      "\n",
      "-------------------------------------         assistant -------------------------------------\n",
      "{\"task\": \"create_deck\", \"name\": \"Computer Vision\"}\n",
      "\n",
      "\n",
      "-------------------------------------              user -------------------------------------\n",
      "Your answer must be a valid json string. Exception: The SRS is frozen. No changes can be made.. Please try again.\n",
      "\n",
      "\n",
      "-------------------------------------         assistant -------------------------------------\n",
      "{\"task\": \"create_deck\", \"name\": \"Computer Vision\"}\n",
      "\n",
      "\n",
      "-------------------------------------              user -------------------------------------\n",
      "Your answer must be a valid json string. Exception: The SRS is frozen. No changes can be made.. Please try again.\n",
      "\n",
      "\n",
      "-------------------------------------         assistant -------------------------------------\n",
      "{\"task\": \"create_deck\", \"name\": \"Computer Vision\"}\n",
      "\n",
      "\n",
      "-------------------------------------              user -------------------------------------\n",
      "Your answer must be a valid json string. Exception: The SRS is frozen. No changes can be made.. Please try again.\n",
      "\n",
      "\n",
      "-------------------------------------         assistant -------------------------------------\n",
      "{\"task\": \"create_deck\", \"name\": \"Computer Vision\"}\n",
      "\n",
      "\n",
      "=============================================================================================\n",
      "\n",
      "-------------------------------------              user -------------------------------------\n",
      "You are an assistant of a flashcard management system. You execute a task for a user.\n",
      "\n",
      "The user gave the following task:\n",
      "\n",
      " Go make a new deck named Computer Vision.\n",
      "\n",
      "The following decks currently exist:\n",
      "\n",
      "\n",
      "\n",
      "You now have to call exactly one of the following functions:\n",
      "\n",
      "* create_deck: {\"task\": \"create_deck\", \"name\": \"<deck name here>\"}\n",
      "Calling this function will create a new deck with the given name. If the deck already exists, you will receive \n",
      "an error and can try again.\n",
      "\n",
      "* rename_deck: {\"task\": \"rename_deck\", \"old_name\": \"<old deck name here>\", \"new_name\": \"<new deck name here>\"}\n",
      "Calling this function will rename the deck to the given name. If no deck exists with the old name, you will receive an \n",
      "error and can try again.\n",
      "\n",
      "* delete_deck: {\"task\": \"delete_deck\", \"name\": \"<deck name here>\"}\n",
      "Calling this function will delete the deck with the given name. If no deck exists with the given name, you will receive an \n",
      "error and can try again.\n",
      "\n",
      "* add_card: {\"task\": \"add_card\", \"deck_name\": \"<deck name here>\", \"question\": \"<question here>\", \"answer\": \"<answer here>\", \"state\": \"<card state here>\", \"flag\": \"<flag here>\"}\n",
      "Calling this function will add a new card to the deck with the given name. If no deck exists with the given name, you will receive an error and can try again.\n",
      "Valid flags are: ['none', 'red', 'orange', 'green', 'blue', 'pink', 'turquoise', 'purple']\n",
      "Valid card states are: ['new', 'learning', 'review', 'suspended', 'buried']\n",
      "\n",
      "* exit: {\"task\": \"exit\"}\n",
      "Call this function after you finished your task.\n",
      "\n",
      "* abort: {\"task\": \"abort\", \"reason\": \"<reason here>\"}\n",
      "Call this function when you have to abort your task.\n",
      "\n",
      "Please answer only with the filled-in, valid json.\n",
      "\n",
      "\n",
      "-------------------------------------         assistant -------------------------------------\n",
      "{\"task\": \"create_deck\", \"name\": \"Computer Vision\"}\n",
      "\n",
      "\n",
      "-------------------------------------              user -------------------------------------\n",
      "Your answer must be a valid json string. Exception: The SRS is frozen. No changes can be made.. Please try again.\n",
      "\n",
      "\n",
      "-------------------------------------         assistant -------------------------------------\n",
      "{\"task\": \"create_deck\", \"name\": \"Computer Vision\"}\n",
      "\n",
      "\n",
      "-------------------------------------              user -------------------------------------\n",
      "Your answer must be a valid json string. Exception: The SRS is frozen. No changes can be made.. Please try again.\n",
      "\n",
      "\n",
      "-------------------------------------         assistant -------------------------------------\n",
      "{\"task\": \"create_deck\", \"name\": \"Computer Vision\"}\n",
      "\n",
      "\n",
      "-------------------------------------              user -------------------------------------\n",
      "Your answer must be a valid json string. Exception: The SRS is frozen. No changes can be made.. Please try again.\n",
      "\n",
      "\n",
      "-------------------------------------         assistant -------------------------------------\n",
      "{\"task\": \"create_deck\", \"name\": \"Computer Vision\"}\n",
      "\n",
      "\n",
      "-------------------------------------              user -------------------------------------\n",
      "Your answer must be a valid json string. Exception: The SRS is frozen. No changes can be made.. Please try again.\n",
      "\n",
      "\n",
      "-------------------------------------         assistant -------------------------------------\n",
      "{\"task\": \"create_deck\", \"name\": \"Computer Vision\"}\n",
      "\n",
      "\n",
      "=============================================================================================\n",
      "\n",
      "-------------------------------------              user -------------------------------------\n",
      "You are an assistant of a flashcard management system. You execute a task for a user.\n",
      "\n",
      "The user gave the following task:\n",
      "\n",
      " Go make a new deck named Computer Vision.\n",
      "\n",
      "The following decks currently exist:\n",
      "\n",
      "\n",
      "\n",
      "You now have to call exactly one of the following functions:\n",
      "\n",
      "* create_deck: {\"task\": \"create_deck\", \"name\": \"<deck name here>\"}\n",
      "Calling this function will create a new deck with the given name. If the deck already exists, you will receive \n",
      "an error and can try again.\n",
      "\n",
      "* rename_deck: {\"task\": \"rename_deck\", \"old_name\": \"<old deck name here>\", \"new_name\": \"<new deck name here>\"}\n",
      "Calling this function will rename the deck to the given name. If no deck exists with the old name, you will receive an \n",
      "error and can try again.\n",
      "\n",
      "* delete_deck: {\"task\": \"delete_deck\", \"name\": \"<deck name here>\"}\n",
      "Calling this function will delete the deck with the given name. If no deck exists with the given name, you will receive an \n",
      "error and can try again.\n",
      "\n",
      "* add_card: {\"task\": \"add_card\", \"deck_name\": \"<deck name here>\", \"question\": \"<question here>\", \"answer\": \"<answer here>\", \"state\": \"<card state here>\", \"flag\": \"<flag here>\"}\n",
      "Calling this function will add a new card to the deck with the given name. If no deck exists with the given name, you will receive an error and can try again.\n",
      "Valid flags are: ['none', 'red', 'orange', 'green', 'blue', 'pink', 'turquoise', 'purple']\n",
      "Valid card states are: ['new', 'learning', 'review', 'suspended', 'buried']\n",
      "\n",
      "* exit: {\"task\": \"exit\"}\n",
      "Call this function after you finished your task.\n",
      "\n",
      "* abort: {\"task\": \"abort\", \"reason\": \"<reason here>\"}\n",
      "Call this function when you have to abort your task.\n",
      "\n",
      "Please answer only with the filled-in, valid json.\n",
      "\n",
      "\n",
      "-------------------------------------         assistant -------------------------------------\n",
      "{\"task\": \"create_deck\", \"name\": \"Computer Vision\"}\n",
      "\n",
      "\n",
      "-------------------------------------              user -------------------------------------\n",
      "Your answer must be a valid json string. Exception: The SRS is frozen. No changes can be made.. Please try again.\n",
      "\n",
      "\n",
      "-------------------------------------         assistant -------------------------------------\n",
      "{\"task\": \"create_deck\", \"name\": \"Computer Vision\"}\n",
      "\n",
      "\n",
      "-------------------------------------              user -------------------------------------\n",
      "Your answer must be a valid json string. Exception: The SRS is frozen. No changes can be made.. Please try again.\n",
      "\n",
      "\n",
      "-------------------------------------         assistant -------------------------------------\n",
      "{\"task\": \"create_deck\", \"name\": \"Computer Vision\"}\n",
      "\n",
      "\n",
      "-------------------------------------              user -------------------------------------\n",
      "Your answer must be a valid json string. Exception: The SRS is frozen. No changes can be made.. Please try again.\n",
      "\n",
      "\n",
      "-------------------------------------         assistant -------------------------------------\n",
      "{\"task\": \"create_deck\", \"name\": \"Computer Vision\"}\n",
      "\n",
      "\n",
      "-------------------------------------              user -------------------------------------\n",
      "Your answer must be a valid json string. Exception: The SRS is frozen. No changes can be made.. Please try again.\n",
      "\n",
      "\n",
      "-------------------------------------         assistant -------------------------------------\n",
      "{\"task\": \"create_deck\", \"name\": \"Computer Vision\"}\n",
      "\n",
      "\n",
      "-------------------------------------              user -------------------------------------\n",
      "Your answer must be a valid json string. Exception: The SRS is frozen. No changes can be made.. Please try again.\n",
      "\n",
      "\n",
      "-------------------------------------         assistant -------------------------------------\n",
      "{\"task\": \"create_deck\", \"name\": \"Computer Vision\"}\n",
      "\n",
      "\n",
      "=============================================================================================\n",
      "\n",
      "-------------------------------------              user -------------------------------------\n",
      "You are an assistant of a flashcard management system. You execute a task for a user.\n",
      "\n",
      "The user gave the following task:\n",
      "\n",
      " Go make a new deck named Computer Vision.\n",
      "\n",
      "The following decks currently exist:\n",
      "\n",
      "\n",
      "\n",
      "You now have to call exactly one of the following functions:\n",
      "\n",
      "* create_deck: {\"task\": \"create_deck\", \"name\": \"<deck name here>\"}\n",
      "Calling this function will create a new deck with the given name. If the deck already exists, you will receive \n",
      "an error and can try again.\n",
      "\n",
      "* rename_deck: {\"task\": \"rename_deck\", \"old_name\": \"<old deck name here>\", \"new_name\": \"<new deck name here>\"}\n",
      "Calling this function will rename the deck to the given name. If no deck exists with the old name, you will receive an \n",
      "error and can try again.\n",
      "\n",
      "* delete_deck: {\"task\": \"delete_deck\", \"name\": \"<deck name here>\"}\n",
      "Calling this function will delete the deck with the given name. If no deck exists with the given name, you will receive an \n",
      "error and can try again.\n",
      "\n",
      "* add_card: {\"task\": \"add_card\", \"deck_name\": \"<deck name here>\", \"question\": \"<question here>\", \"answer\": \"<answer here>\", \"state\": \"<card state here>\", \"flag\": \"<flag here>\"}\n",
      "Calling this function will add a new card to the deck with the given name. If no deck exists with the given name, you will receive an error and can try again.\n",
      "Valid flags are: ['none', 'red', 'orange', 'green', 'blue', 'pink', 'turquoise', 'purple']\n",
      "Valid card states are: ['new', 'learning', 'review', 'suspended', 'buried']\n",
      "\n",
      "* exit: {\"task\": \"exit\"}\n",
      "Call this function after you finished your task.\n",
      "\n",
      "* abort: {\"task\": \"abort\", \"reason\": \"<reason here>\"}\n",
      "Call this function when you have to abort your task.\n",
      "\n",
      "Please answer only with the filled-in, valid json.\n",
      "\n",
      "\n",
      "-------------------------------------         assistant -------------------------------------\n",
      "{\"task\": \"create_deck\", \"name\": \"Computer Vision\"}\n",
      "\n",
      "\n",
      "-------------------------------------              user -------------------------------------\n",
      "Your answer must be a valid json string. Exception: The SRS is frozen. No changes can be made.. Please try again.\n",
      "\n",
      "\n",
      "-------------------------------------         assistant -------------------------------------\n",
      "{\"task\": \"create_deck\", \"name\": \"Computer Vision\"}\n",
      "\n",
      "\n",
      "-------------------------------------              user -------------------------------------\n",
      "Your answer must be a valid json string. Exception: The SRS is frozen. No changes can be made.. Please try again.\n",
      "\n",
      "\n",
      "-------------------------------------         assistant -------------------------------------\n",
      "{\"task\": \"create_deck\", \"name\": \"Computer Vision\"}\n",
      "\n",
      "\n",
      "-------------------------------------              user -------------------------------------\n",
      "Your answer must be a valid json string. Exception: The SRS is frozen. No changes can be made.. Please try again.\n",
      "\n",
      "\n",
      "-------------------------------------         assistant -------------------------------------\n",
      "{\"task\": \"create_deck\", \"name\": \"Computer Vision\"}\n",
      "\n",
      "\n",
      "-------------------------------------              user -------------------------------------\n",
      "Your answer must be a valid json string. Exception: The SRS is frozen. No changes can be made.. Please try again.\n",
      "\n",
      "\n",
      "-------------------------------------         assistant -------------------------------------\n",
      "{\"task\": \"create_deck\", \"name\": \"Computer Vision\"}\n",
      "\n",
      "\n",
      "-------------------------------------              user -------------------------------------\n",
      "Your answer must be a valid json string. Exception: The SRS is frozen. No changes can be made.. Please try again.\n",
      "\n",
      "\n",
      "-------------------------------------         assistant -------------------------------------\n",
      "{\"task\": \"create_deck\", \"name\": \"Computer Vision\"}\n",
      "\n",
      "\n",
      "-------------------------------------              user -------------------------------------\n",
      "Your answer must be a valid json string. Exception: The SRS is frozen. No changes can be made.. Please try again.\n",
      "\n",
      "\n",
      "-------------------------------------         assistant -------------------------------------\n",
      "{\"task\": \"error\", \"message\": \"The SRS is frozen. No changes can be made.\"}\n",
      "\n",
      "\n",
      "=============================================================================================\n",
      "\n",
      "-------------------------------------              user -------------------------------------\n",
      "You are an assistant of a flashcard management system. You execute a task for a user.\n",
      "\n",
      "The user gave the following task:\n",
      "\n",
      " Go make a new deck named Computer Vision.\n",
      "\n",
      "The following decks currently exist:\n",
      "\n",
      "\n",
      "\n",
      "You now have to call exactly one of the following functions:\n",
      "\n",
      "* create_deck: {\"task\": \"create_deck\", \"name\": \"<deck name here>\"}\n",
      "Calling this function will create a new deck with the given name. If the deck already exists, you will receive \n",
      "an error and can try again.\n",
      "\n",
      "* rename_deck: {\"task\": \"rename_deck\", \"old_name\": \"<old deck name here>\", \"new_name\": \"<new deck name here>\"}\n",
      "Calling this function will rename the deck to the given name. If no deck exists with the old name, you will receive an \n",
      "error and can try again.\n",
      "\n",
      "* delete_deck: {\"task\": \"delete_deck\", \"name\": \"<deck name here>\"}\n",
      "Calling this function will delete the deck with the given name. If no deck exists with the given name, you will receive an \n",
      "error and can try again.\n",
      "\n",
      "* add_card: {\"task\": \"add_card\", \"deck_name\": \"<deck name here>\", \"question\": \"<question here>\", \"answer\": \"<answer here>\", \"state\": \"<card state here>\", \"flag\": \"<flag here>\"}\n",
      "Calling this function will add a new card to the deck with the given name. If no deck exists with the given name, you will receive an error and can try again.\n",
      "Valid flags are: ['none', 'red', 'orange', 'green', 'blue', 'pink', 'turquoise', 'purple']\n",
      "Valid card states are: ['new', 'learning', 'review', 'suspended', 'buried']\n",
      "\n",
      "* exit: {\"task\": \"exit\"}\n",
      "Call this function after you finished your task.\n",
      "\n",
      "* abort: {\"task\": \"abort\", \"reason\": \"<reason here>\"}\n",
      "Call this function when you have to abort your task.\n",
      "\n",
      "Please answer only with the filled-in, valid json.\n",
      "\n",
      "\n",
      "-------------------------------------         assistant -------------------------------------\n",
      "{\"task\": \"create_deck\", \"name\": \"Computer Vision\"}\n",
      "\n",
      "\n",
      "-------------------------------------              user -------------------------------------\n",
      "Your answer must be a valid json string. Exception: The SRS is frozen. No changes can be made.. Please try again.\n",
      "\n",
      "\n",
      "-------------------------------------         assistant -------------------------------------\n",
      "{\"task\": \"create_deck\", \"name\": \"Computer Vision\"}\n",
      "\n",
      "\n",
      "-------------------------------------              user -------------------------------------\n",
      "Your answer must be a valid json string. Exception: The SRS is frozen. No changes can be made.. Please try again.\n",
      "\n",
      "\n",
      "-------------------------------------         assistant -------------------------------------\n",
      "{\"task\": \"create_deck\", \"name\": \"Computer Vision\"}\n",
      "\n",
      "\n",
      "-------------------------------------              user -------------------------------------\n",
      "Your answer must be a valid json string. Exception: The SRS is frozen. No changes can be made.. Please try again.\n",
      "\n",
      "\n",
      "-------------------------------------         assistant -------------------------------------\n",
      "{\"task\": \"create_deck\", \"name\": \"Computer Vision\"}\n",
      "\n",
      "\n",
      "-------------------------------------              user -------------------------------------\n",
      "Your answer must be a valid json string. Exception: The SRS is frozen. No changes can be made.. Please try again.\n",
      "\n",
      "\n",
      "-------------------------------------         assistant -------------------------------------\n",
      "{\"task\": \"create_deck\", \"name\": \"Computer Vision\"}\n",
      "\n",
      "\n",
      "-------------------------------------              user -------------------------------------\n",
      "Your answer must be a valid json string. Exception: The SRS is frozen. No changes can be made.. Please try again.\n",
      "\n",
      "\n",
      "-------------------------------------         assistant -------------------------------------\n",
      "{\"task\": \"create_deck\", \"name\": \"Computer Vision\"}\n",
      "\n",
      "\n",
      "-------------------------------------              user -------------------------------------\n",
      "Your answer must be a valid json string. Exception: The SRS is frozen. No changes can be made.. Please try again.\n",
      "\n",
      "\n",
      "-------------------------------------         assistant -------------------------------------\n",
      "{\"task\": \"error\", \"message\": \"The SRS is frozen. No changes can be made.\"}\n",
      "\n",
      "\n",
      "-------------------------------------              user -------------------------------------\n",
      "Your answer must be a valid json string. Exception: Response must contain a valid task. Please try again.\n",
      "\n",
      "\n",
      "-------------------------------------         assistant -------------------------------------\n",
      "{\"task\": \"exit\"}\n",
      "\n",
      "\n",
      "\n",
      "####################################### Errors ###############################################\n",
      "\tException raised: Can't instantiate abstract class CloudLectureTranslatorASR without an implementation for abstract method 'transcribe_wav_file'.\n",
      "\n",
      "Stack trace:\n",
      "Traceback (most recent call last):\n",
      "  File \"/home/fab/Dokumente/Schule/Universität/12. Semester inkl Ilias/Info LLM Praktikum/the-curator/src/backend/modules/evaluation/run_tests/EvaluationPipeline.py\", line 174, in _evaluate_test\n",
      "    comparator = SRSComparator(self.llm_for_fuzzy_matching, self.llm_judge)\n",
      "                 ^^^^^^^^^^^^^^^^^^^^^^^^^^^^^^^^^^^^^^^^^^^^^^^^^^^^^^^^^^\n",
      "  File \"/home/fab/Dokumente/Schule/Universität/12. Semester inkl Ilias/Info LLM Praktikum/the-curator/src/backend/modules/evaluation/run_tests/SRSComparator.py\", line 12, in __init__\n",
      "TypeError: Can't instantiate abstract class CloudLectureTranslatorASR without an implementation for abstract method 'transcribe_wav_file'\n",
      "\n",
      "\n",
      "\n",
      "##############################################################################################\n",
      "\n"
     ]
    }
   ],
   "source": [
    "I_RES[0].pretty_print()"
   ]
  },
  {
   "cell_type": "code",
   "execution_count": null,
   "id": "fbf1e61d3a90ba00",
   "metadata": {},
   "outputs": [],
   "source": []
  }
 ],
 "metadata": {
  "kernelspec": {
   "display_name": "Python 3",
   "language": "python",
   "name": "python3"
  },
  "language_info": {
   "codemirror_mode": {
    "name": "ipython",
    "version": 2
   },
   "file_extension": ".py",
   "mimetype": "text/x-python",
   "name": "python",
   "nbconvert_exporter": "python",
   "pygments_lexer": "ipython2",
   "version": "2.7.6"
  }
 },
 "nbformat": 4,
 "nbformat_minor": 5
}
